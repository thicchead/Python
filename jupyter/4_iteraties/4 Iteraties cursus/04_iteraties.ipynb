{
 "cells": [
  {
   "cell_type": "markdown",
   "metadata": {
    "collapsed": true
   },
   "source": [
    "# Hoofdstuk 4: Iteraties\n",
    "\n",
    "Computers raken niet verveeld. Als een computer een taak honderdduizenden malen\n",
    "moet herhalen, protesteert hij niet. Mensen daarentegen houden niet van teveel herhaling.\n",
    "Daarom moeten herhalende taken aan een computer worden overgelaten. Alle programmeertalen\n",
    "ondersteunen herhalingen. De programmeerconstructies die herhalingen\n",
    "mogelijk maken noemen we “iteraties”.\n",
    "Een veelgebruikte term is “loops” (netjes vertaald: “lussen” maar dat zeggen programmeurs\n",
    "nooit).\n",
    "\n",
    "Dit hoofdstuk legt uit wat je moet weten over iteraties in Python. \n",
    "Iteraties zijn een fundamenteel programmeerconcept dat je goed moet begrijpen. Elk\n",
    "hoofdstuk dat hierna komt maakt gebruik van iteraties.\n",
    "\n",
    "## 4.1 **while** loop\n",
    "\n",
    "Stel dat je de gebruiker moet vragen om vijf getallen, ze moet optellen, en dan het totaal\n",
    "moet laten zien. Met het materiaal dat tot nu toe behandeld is, zou je dat als volgt coderen:"
   ]
  },
  {
   "cell_type": "code",
   "execution_count": null,
   "metadata": {},
   "outputs": [],
   "source": [
    "num1 = int(input(\"Nummer 1:\"))\n",
    "num2 = int(input(\"Nummer 2:\"))\n",
    "num3 = int(input(\"Nummer 3:\"))\n",
    "num4 = int(input(\"Nummer 4:\"))\n",
    "num5 = int(input(\"Nummer 5:\"))\n",
    "\n",
    "totaal = num1 + num2 + num3 + num4 + num5\n",
    "\n",
    "print(\"Totaal is\", totaal)"
   ]
  },
  {
   "cell_type": "markdown",
   "metadata": {},
   "source": [
    "Maar wat als je om 500 nummers moet vragen? Ga je die regel code waar om een getal\n",
    "wordt gevraagd 500 keer kopiëren? Dat moet toch op een gemakkelijkere manier kunnen?\n",
    "\n",
    "Natuurlijk kan dat gemakkelijker. Je kunt hiervoor een loop gebruiken.\n",
    "\n",
    "De eerste loop is de **while** loop.\n",
    "\n",
    "De syntax is:\n",
    "\n",
    "```\n",
    "while <boolean expressie>:\n",
    "    <acties>\n",
    "```\n",
    "\n",
    "Net als bij een **if** statement, test een **while** statement een boolean expressie. Als de\n",
    "expressie **True** oplevert, wordt het blok code onder de **while** uitgevoerd. Echter, in tegenstelling\n",
    "tot een **if** statement, gaat Python, wanneer het blok code uitgevoerd is, terug naar\n",
    "de boolean expressie naast de **while** en test die opnieuw. Als de expressie nog steeds **True**\n",
    "oplevert, dan wordt het blok code nogmaals uitgevoerd. En als het is uitgevoerd, keert\n",
    "Python wederom terug naar de boolean expressie. Dit wordt steeds herhaald, totdat de\n",
    "boolean expressie **False** oplevert. Pas op dat moment slaat Python het blok code onder de\n",
    "while over en gaat eronder verder.\n",
    "\n",
    "Merk op dat als de boolean expressie meteen **False** oplevert de eerste keer dat Python hem\n",
    "ziet, het blok code onder de **while** onmiddellijk wordt overgeslagen, net zoals gebeurt\n",
    "bij een **if** statement.\n",
    "\n",
    "### 4.1.1 **while** loop, een eerste voorbeeld\n",
    "\n",
    "We starten met een eenvoudig voorbeeld: het printen van de nummers 1 tot en met 5. Met een\n",
    "while loop kun je dat als volgt doen:"
   ]
  },
  {
   "cell_type": "code",
   "execution_count": 1,
   "metadata": {},
   "outputs": [
    {
     "name": "stdout",
     "output_type": "stream",
     "text": [
      "1\n",
      "2\n",
      "3\n",
      "4\n",
      "5\n",
      "Klaar\n"
     ]
    }
   ],
   "source": [
    "num = 1\n",
    "while num <= 5:\n",
    "    print(num)\n",
    "    num += 1\n",
    "print(\"Klaar\")"
   ]
  },
  {
   "cell_type": "markdown",
   "metadata": {},
   "source": [
    "Het is van essentieel belang dat je deze code goed begrijpt. Hieronder staat de uitvoering van de code stap voor stap beschreven."
   ]
  },
  {
   "cell_type": "markdown",
   "metadata": {},
   "source": [
    "![alt text](./images/stroomdiagram_while.jpg \"Stroomdiagram dat een while loop weergeeft\")"
   ]
  },
  {
   "cell_type": "markdown",
   "metadata": {},
   "source": [
    "De eerste regel initialiseert een variabele `num`. Dit is de variabele die in de code wordt afgedrukt,\n",
    "dus hij wordt geïnitialiseerd op 1, omdat 1 de eerste waarde is die afgedrukt\n",
    "moet worden.\n",
    "\n",
    "Dan start de **while** loop. De boolean expressie zegt `num <= 5`. Omdat `num` 1 is en 1 kleiner\n",
    "is dan 5, levert de expressie **True**. Dus wordt het blok code onder de **while** uitgevoerd.\n",
    "De eerste regel van het blok code print de waarde van `num`, dus 1. De tweede regel telt 1\n",
    "op bij de waarde van `num`, zodat `num` nu 2 is. Python gaat daarna terug naar de boolean\n",
    "expressie. De laatste regel van het programma, het printen van het woord “Klaar,” wordt\n",
    "dus (nog) niet uitgevoerd omdat hij niet in het code blok van de loop zit en de loop nog\n",
    "niet afgelopen is.\n",
    "\n",
    "Omdat `num` 2 is, evalueert de boolean expressie nog steeds als **True**. Het blok code wordt\n",
    "dus nogmaals uitgevoerd. 2 wordt afgedrukt, `num` krijgt waarde 3 en de code keert terug\n",
    "bij de boolean expressie.\n",
    "\n",
    "Omdat `num` 3 is, evalueert de boolean expressie nog steeds als **True**. Het blok code wordt\n",
    "dus nogmaals uitgevoerd. 3 wordt afgedrukt, `num` krijgt waarde 4 en de code keert terug\n",
    "bij de boolean expressie.\n",
    "\n",
    "Omdat `num` 4 is, evalueert de boolean expressie nog steeds als **True**. Het blok code wordt\n",
    "dus nogmaals uitgevoerd. 4 wordt afgedrukt, `num` krijgt waarde 5 en de code keert terug\n",
    "bij de boolean expressie.\n",
    "\n",
    "Omdat `num` 5 is, evalueert de boolean expressie nog steeds als **True**. Het blok code wordt\n",
    "dus nogmaals uitgevoerd. 5 wordt afgedrukt, `num` krijgt waarde 6 en de code keert terug\n",
    "bij de boolean expressie.\n",
    "\n",
    "Omdat `num` 6 is, evalueert de boolean expressie als **False** (aangezien 6 niet kleiner dan of\n",
    "gelijk aan 5 is). Het blok code wordt overgeslagen en Python gaat verder met de eerste\n",
    "regel na het blok code. Dat is ook de laatste regel van het programma. Het woord “Klaar”\n",
    "wordt afgedrukt en het programma eindigt.\n",
    "\n",
    "**Opgave 4.1**  Wijzig de code hierboven zodat de getallen 1, 3, 5, 7, en 9 afgedrukt worden."
   ]
  },
  {
   "cell_type": "markdown",
   "metadata": {},
   "source": [
    "### 4.1.2 while loop, een tweede voorbeeld\n",
    "\n",
    "Als je het eerste voorbeeld begrijpt, begrijp je waarschijnlijk ook hoe je de gebruiker kunt\n",
    "vragen om vijf getallen in te geven en dan vervolgens de som van de vijf getallen te berekenen:"
   ]
  },
  {
   "cell_type": "code",
   "execution_count": 2,
   "metadata": {},
   "outputs": [
    {
     "name": "stdout",
     "output_type": "stream",
     "text": [
      "Geef een nummer:1\n",
      "Geef een nummer:2\n",
      "Geef een nummer:6\n",
      "Geef een nummer:5\n",
      "Geef een nummer:4\n",
      "Totaal is 18\n"
     ]
    }
   ],
   "source": [
    "totaal = 0\n",
    "teller = 0\n",
    "\n",
    "while teller < 5:\n",
    "    totaal += int(input(\"Geef een nummer:\"))\n",
    "    teller += 1\n",
    "\n",
    "print(\"Totaal is\", totaal)"
   ]
  },
  {
   "cell_type": "markdown",
   "metadata": {},
   "source": [
    "Bestudeer bovenstaande code. Er worden twee variabelen gebruikt. `totaal` wordt gebruikt\n",
    "om de vijf getallen in op te tellen. `totaal` begint op nul, omdat bij de start van het\n",
    "programma nog geen getallen ingegeven zijn, dus het `totaal` is 0. `teller` wordt gebruikt\n",
    "om te tellen hoe vaak de loop doorlopen is. Omdat de loop vijf keer uitgevoerd moet worden,\n",
    "start `teller` op 0 en de boolean expressie voor de loop test of teller kleiner is dan 5. \n",
    "Dus `teller` moet iedere keer dat de loop doorlopen wordt met 1 verhoogd worden, zodat\n",
    "na vijf keer doorlopen de boolean expressie **False** is.\n",
    "\n",
    "Je vraagt je misschien af waarom de variabele `teller` start bij 0 en de boolean expressie test\n",
    "of `teller < 5`. Waarom beginnen we niet met `teller = 1` en is de test niet `teller <= 5`?\n",
    "De reden is gewoonte: programmeurs zijn gewend om tellers bij 0 te laten beginnen en\n",
    "als ze tellen, te tellen “tot maar niet inclusief”. Als je verder gaat met programmeren zul je\n",
    "ontdekken dat de meeste code deze gewoonte naleeft. De meeste standaard programmeerconstructies\n",
    "die tellers gebruiken, doen het ook zo."
   ]
  },
  {
   "cell_type": "markdown",
   "metadata": {},
   "source": [
    "Opmerking: De variabele `teller` is wat programmeurs een “wegwerp variabele” noemen.\n",
    "Het enige doel van deze variabele is te tellen hoe vaak de loop doorlopen is. De variabele\n",
    "heeft geen echte betekenis voor de loop, in de loop of nadat de loop afgelopen is..\n",
    "\n",
    "**Opgave 4.2** Wijzig de code hierboven zodat niet alleen het totaal maar ook het gemiddelde\n",
    "wordt afgedrukt.\n",
    "\n",
    "**Opgave 4.3** De eerste voorbeeldcode in dit hoofdstuk vroeg de gebruiker om vijf getallen\n",
    "in te geven. In dat voorbeeld werd steeds de prompt “Geef nummer x: ” gebruikt, waarbij\n",
    "`x` een cijfer is. Kun je de code hierboven, waarin een loop gebruikt wordt, zo veranderen\n",
    "dat ook steeds een veranderende prompt wordt gebruikt voor de getallen?"
   ]
  },
  {
   "cell_type": "markdown",
   "metadata": {},
   "source": [
    "### 4.1.3 De while loop onder controle van de gebruiker\n",
    "\n",
    "Stel je voor dat je in het tweede voorbeeld de gebruiker niet wilt beperken tot slechts vijf\n",
    "getallen. Je wil de gebruiker zoveel getallen laten ingeven als hij wil, inclusief helemaal\n",
    "geen getallen. Dat betekent dat je niet weet hoe vaak de loop doorlopen moet worden. In\n",
    "plaats daarvan bepaalt de gebruiker hoe vaak de loop doorlopen wordt. Je moet dus de\n",
    "gebruiker de mogelijkheid geven om aan te geven dat hij klaar is met getallen ingeven.\n",
    "\n",
    "De code hieronder laat zien hoe je een while loop kunt opzetten die de gebruiker zoveel\n",
    "getallen laat ingeven als gewenst. De gebruiker stopt met het ingeven van getallen door\n",
    "een nul in te geven. Het totaal wordt afgedrukt wanneer de loop beëindigd is."
   ]
  },
  {
   "cell_type": "code",
   "execution_count": null,
   "metadata": {},
   "outputs": [],
   "source": [
    "num = -1\n",
    "totaal = 0\n",
    "while num != 0:\n",
    "    num = int(input(\"Geef een nummer: \"))\n",
    "    totaal += num\n",
    "print(\"Totaal is\", totaal)"
   ]
  },
  {
   "cell_type": "markdown",
   "metadata": {},
   "source": [
    "Deze code werkt, maar wordt zeker niet geaccepteerd als een geldige oplossing.\n",
    "Het is zeker geen goede code. Op de eerste plaats\n",
    "wordt `num` geïnitialiseerd op -1. De -1 zelf is betekenisloos, het moest gewoon een waarde\n",
    "zijn die ervoor zou zorgen dat de loop minstens één keer uitgevoerd zou worden. Ten\n",
    "tweede stopt de loop niet meteen als de gebruiker nul ingeeft; in plaats daarvan wordt de\n",
    "ingave van de gebruiker opgeteld bij totaal. Omdat die ingave nul is, wijzigt `totaal` niet,\n",
    "maar als de loop eindigt door bijvoorbeeld een negatief\n",
    "getal in te geven, dan zou `totaal` daarna de verkeerde waarde bevatten.\n",
    "\n",
    "Vanwege deze lelijke eigenschappen van de bovenstaande, verkiezen we om het als\n",
    "volgt te schrijven:"
   ]
  },
  {
   "cell_type": "code",
   "execution_count": null,
   "metadata": {},
   "outputs": [],
   "source": [
    "num =  int(input(\"Geef een nummer: \"))\n",
    "totaal = 0\n",
    "while num != 0:\n",
    "    totaal += num\n",
    "    num = int(input(\"Geef een nummer: \"))\n",
    "\n",
    "print(\"Totaal is\", totaal)"
   ]
  },
  {
   "cell_type": "markdown",
   "metadata": {},
   "source": [
    "**Opgave 4.4**  Maak een loop die de gebruiker een aantal getallen laat ingeven, totdat hij nul\n",
    "ingeeft en toon vervolgens het totaal en het gemiddelde. Test je code ook eens uit wanneer direct 0 ingegeven wordt.\n"
   ]
  },
  {
   "cell_type": "markdown",
   "metadata": {},
   "source": [
    "### 4.1.4 Eindeloze loops\n",
    "\n",
    "De code hieronder begint bij nummer 1 en telt nummers op, totdat het een nummer\n",
    "tegenkomt dat, als het gekwadrateerd wordt, deelbaar is door 1000. De loop bevat een\n",
    "fout. Kijk of je de fout weet te vinden (zonder de code uit te voeren!)."
   ]
  },
  {
   "cell_type": "code",
   "execution_count": null,
   "metadata": {},
   "outputs": [],
   "source": [
    "nummer = 1\n",
    "totaal = 0\n",
    "while (nummer * nummer) % 1000 != 0:\n",
    "    totaal += nummer\n",
    "print(\"Totaal is\", totaal)"
   ]
  },
  {
   "cell_type": "markdown",
   "metadata": {},
   "source": [
    "De titel boven deze paragraaf gaf het antwoord natuurlijk al weg: deze code bevat een\n",
    "loop die nooit eindigt. Als je hem uitvoert, lijkt het alsof het programma “hangt,” dus wel\n",
    "draait maar niks doet. Maar het doet niet niks, het is zelfs erg actief, maar het is bezig\n",
    "een nooit-eindigende optelling uit te voeren. `nummer` begint bij 1, maar wordt in de loop\n",
    "niet gewijzigd. Daarom wordt de boolean expressie nooit **False**. Dit is een “eindeloze\n",
    "loop.” Dit soort loops zijn het grootste gevaar als je **while** loops bouwt.\n",
    "\n",
    "Als je deze code uitvoert in PyCharm, kun je de uitvoering afbreken door de \"stop process\"-knop te drukken.\n",
    "In gebruikersonvriendelijke omgevingen moet je soms het proces waarin Python draait via\n",
    "een systeem commando of systeem programma afbreken.\n",
    "\n",
    "Omdat iedere programmeur zo nu en dan per ongeluk een eindeloze loop schrijft, is het\n",
    "een goed idee als je, wanneer je begint met het schrijven van een **while** loop, onmiddellijk\n",
    "een regel code toevoegt die een wijziging maakt in hetgeen getest wordt in de boolean\n",
    "expressie, zodat je dat niet vergeet. Bijvoorbeeld, als je schrijft `while i < 10`, dan schrijf je\n",
    "er meteen de regel `i += 1` onder en daarna begin je de rest van de code tussen deze twee\n",
    "regels toe te voegen."
   ]
  },
  {
   "cell_type": "markdown",
   "metadata": {},
   "source": [
    "**Opgave 4.5** Verbeter de code (oneindige_loop.py) zodat het geen eindeloze loop meer is."
   ]
  },
  {
   "cell_type": "markdown",
   "metadata": {},
   "source": [
    "### 4.1.5 while loop oefeningen\n",
    "\n",
    "Nu is het tijd voor enkele oefeningen met eenvoudige **while** loops.\n",
    "\n",
    "**Opgave 4.6** Schrijf code die aftelt. Er wordt begonnen met een specifiek nummer, bijvoorbeeld 10. \n",
    "Dan telt de code af naar nul, waarbij ieder nummer geprint wordt (10, 9, 8, ...).\n",
    "Nul wordt niet geprint, maar in plaats daarvan drukt het programma de tekst “Start!” af.\n",
    "\n",
    "**Opgave 4.7** De faculteit van een positief geheel getal is gelijk aan dat getal, vermenigvuldigd\n",
    "met alle positieve gehele getallen die kleiner zijn (exclusief nul). Je schrijft\n",
    "de faculteit als het getal met een uitroepteken erachter. Bijvoorbeeld, de faculteit van 5 is\n",
    "$5! = 5 ∗ 4 ∗ 3 ∗ 2 ∗ 1 = 120$. Schrijf code die de faculteit van een getal berekent. Test het programma\n",
    "niet met getallen die hoog zijn, want de tijd voor het berekenen van de faculteit stijgt exponentieel (het is meer\n",
    "dan genoeg om tot 10! te testen)."
   ]
  },
  {
   "cell_type": "markdown",
   "metadata": {},
   "source": [
    "## 4.2 for loop\n",
    "\n",
    "Een alternatieve manier om loops te implementeren is via de **for** loop.\n",
    "De syntax voor de **for** loop is:\n",
    "```\n",
    "for <variabele> in <collectie>:\n",
    "    <acties>\n",
    "```\n",
    "Een **for** loop krijgt een verzameling van items en verwerkt deze items één voor één in de volgorde\n",
    "waarin ze worden aangeboden. Iedere cyclus door de loop verwerkt één item door het\n",
    "in de variabele te stoppen die naast de **for** staat. Die variabele kan dan gebruikt worden in\n",
    "het codeblok van de loop. De variabele hoeft niet te bestaan voordat de **for** loop bezocht\n",
    "wordt. Als de variabele al bestaat, wordt hij overschreven. Als hij nog niet bestaat, wordt\n",
    "hij aangemaakt. Na afloop van de loop bevat hij het laatste item dat verwerkt is.\n",
    "Op dit punt vraag je je wellicht af wat een verzameling is. Er zijn verschillende soorten verzamelingen (of collecties)\n",
    "in Python en later in dit hoofdstuk worden er al enkele geïntroduceerd."
   ]
  },
  {
   "cell_type": "markdown",
   "metadata": {},
   "source": [
    "### 4.2.1 for loop met strings\n",
    "\n",
    "De enige collectie die in de voorgaande hoofdstukken besproken is, is de string. Een string\n",
    "is een collectie van tekens, bijvoorbeeld, de string \"banaan\" is een collectie van de tekens\n",
    "\"b\", \"a\", \"n\", \"a\", \"a\", en \"n\", in die specifieke volgorde. De volgende code verwerkt\n",
    "ieder van de tekens van deze collectie:"
   ]
  },
  {
   "cell_type": "code",
   "execution_count": null,
   "metadata": {},
   "outputs": [],
   "source": [
    "for letter in \"banaan\":\n",
    "    print(letter)\n",
    "print(\"Klaar\")"
   ]
  },
  {
   "cell_type": "markdown",
   "metadata": {},
   "source": [
    "Hoewel deze code vrij triviaal is, bespreken we de uitvoering voor duidelijkheid stap voor stap.\n",
    "Als een string in de **for** loop wordt aangetroffen, mag je aannemen dat het een lijst is van alle tekens in de\n",
    "string, in de volgorde dat ze in de string staan. Python neemt dan de eerste van deze\n",
    "tekens en stopt hem in de variabele `letter`. Daarna voert Python het codeblok onder de\n",
    "**for** uit.\n",
    "\n",
    "Het codeblok bevat maar één regel, namelijk het printen van `letter`. Het programma\n",
    "print dus de letter “b” en keert dan terug bij de **for**. Python neemt dan het volgende teken uit de verzameling,\n",
    "namelijk de eerste “a” en voert wederom het codeblok uit, maar nu met \"a\" als waarde in de variabele\n",
    "`letter`. Dit proces wordt herhaald voor ieder van de tekens. Nadat alle tekens verwerkt\n",
    "zijn, eindigt de **for** loop. Python voert dan nog de laatste regel van het programma uit, het\n",
    "printen van het woord “Klaar”.\n",
    "\n",
    "Om volledig helder te zijn: in de **for** loop hoef je niet ergens expliciet een variabele te\n",
    "verhogen of zo, of zelf iets te schrijven dat het volgende teken van de string pakt. De **for**\n",
    "loop handelt dat automatisch af: iedere keer dat de loop terugkeert bij de regel met de **for**,\n",
    "wordt het volgende item uit de collectie gepakt."
   ]
  },
  {
   "cell_type": "markdown",
   "metadata": {},
   "source": [
    "### 4.2.2 for loop met een variabele collectie\n",
    "\n",
    "In de code hierboven wordt de string \"banaan\" gebruikt als collectie, maar er had ook een\n",
    "variabele gebruikt kunnen worden die een string bevat. Bijvoorbeeld, de volgende code is\n",
    "gelijk aan de vorige:"
   ]
  },
  {
   "cell_type": "code",
   "execution_count": 4,
   "metadata": {},
   "outputs": [
    {
     "name": "stdout",
     "output_type": "stream",
     "text": [
      "b\n",
      "a\n",
      "n\n",
      "a\n",
      "a\n",
      "n\n",
      "Klaar\n"
     ]
    }
   ],
   "source": [
    "fruit = \"banaan\"\n",
    "for letter in fruit:\n",
    "    print(letter)\n",
    "print(\"Klaar\")"
   ]
  },
  {
   "cell_type": "markdown",
   "metadata": {},
   "source": [
    "Je kunt je afvragen of dat niet gevaarlijk is. Wat gebeurt er als de programmeur iets in het\n",
    "codeblok van de loop schrijft dat de inhoud van de variabele `fruit` wijzigt? Je kunt het\n",
    "effect hiervan testen met de volgende code:"
   ]
  },
  {
   "cell_type": "code",
   "execution_count": 3,
   "metadata": {},
   "outputs": [
    {
     "name": "stdout",
     "output_type": "stream",
     "text": [
      "b\n",
      "a\n",
      "n\n",
      "a\n",
      "a\n",
      "n\n",
      "Klaar\n"
     ]
    }
   ],
   "source": [
    "fruit = \"banaan\"\n",
    "for letter in fruit:\n",
    "    print(letter)\n",
    "    if letter == \"n\":\n",
    "        fruit = \"mango\"\n",
    "print(\"Klaar\")"
   ]
  },
  {
   "cell_type": "markdown",
   "metadata": {},
   "source": [
    "Als je deze code uitvoert, merk je dat het wijzigen van de inhoud van de variabele `fruit` in\n",
    "de loop geen effect heeft op het proces. De serie tekens die de loop verwerkt wordt slechts\n",
    "eenmalig bepaald, namelijk de eerste keer dat Python de loop betreedt. Het wijzigen van\n",
    "`fruit` in \"mango\" gedurende het proces waarbij de loop de tekens van \"banaan\" verwerkt,\n",
    "laat de loop niet ophouden met het verwerken \"banaan\". Het is een prachtige eigenschap\n",
    "van **for** loops dat ze gegarandeerd eindigen. **for** loops kunnen niet eindeloos zijn!\n",
    "(Deze laatste uitspraak is niet helemaal waar, maar je hebt erg geavanceerde kennis van Python\n",
    "nodig om een eindeloze **for** loop te maken.)"
   ]
  },
  {
   "cell_type": "markdown",
   "metadata": {},
   "source": [
    "### 4.2.3 for loop met een getallenreeks\n",
    "\n",
    "Python heeft een functie **range()** die het mogelijk maakt een serie opeenvolgende getallen\n",
    "te genereren. **range()** wordt vaak gebruikt in combinatie met een **for** loop, bijvoorbeeld\n",
    "om een loop te maken die een specifiek aantal malen wordt uitgevoerd. De eenvoudigste\n",
    "manier om **range()** aan te roepen is met één parameter, namelijk een integer. De functie\n",
    "genereert dan een opeenvolgende lijst van integers, beginnend bij nul, tot aan maar niet\n",
    "inclusief de parameter."
   ]
  },
  {
   "cell_type": "code",
   "execution_count": 5,
   "metadata": {},
   "outputs": [
    {
     "name": "stdout",
     "output_type": "stream",
     "text": [
      "0\n",
      "1\n",
      "2\n",
      "3\n",
      "4\n",
      "5\n",
      "6\n",
      "7\n",
      "8\n",
      "9\n"
     ]
    }
   ],
   "source": [
    "for x in range(10):\n",
    "    print(x)"
   ]
  },
  {
   "cell_type": "markdown",
   "metadata": {},
   "source": [
    "**range()** kan meer dan één parameter meekrijgen. Als je er twee meegeeft, dan is de eerste\n",
    "het startgetal (de default is nul) en de tweede het eindgetal. Het eerste getal zit in de\n",
    "gegenereerde serie, het tweede niet. Als je drie getallen meegeeft, zijn de eerste twee zoals\n",
    "hiervoor aangegeven en is de derde een stapgrootte, dat wil zeggen, de afstand\n",
    "tussen de gegenereerde getallen. Default stapgrootte is 1. Als je wilt aftellen dan is dat\n",
    "mogelijk: je geeft dan een negatieve stapgrootte. Je moet dan wel ervoor zorgen dat het\n",
    "startgetal groter is dan het eindgetal."
   ]
  },
  {
   "cell_type": "code",
   "execution_count": 7,
   "metadata": {},
   "outputs": [
    {
     "name": "stdout",
     "output_type": "stream",
     "text": [
      "1\n",
      "3\n",
      "5\n",
      "7\n",
      "9\n"
     ]
    }
   ],
   "source": [
    "for x in range(1, 11, 2):\n",
    "    print(x)"
   ]
  },
  {
   "cell_type": "code",
   "execution_count": 6,
   "metadata": {},
   "outputs": [
    {
     "name": "stdout",
     "output_type": "stream",
     "text": [
      "10\n",
      "8\n",
      "6\n",
      "4\n",
      "2\n",
      "0\n"
     ]
    }
   ],
   "source": [
    "for x in range(10, -1, -2):\n",
    "    print(x)"
   ]
  },
  {
   "cell_type": "markdown",
   "metadata": {},
   "source": [
    "**Opgave 4.8** Wijzig in bovenstaande code de drie parameters een paar keer, om het effect\n",
    "van deze wijzigingen te bestuderen. Ga door totdat je de **range()** functie begrijpt.\n",
    "\n",
    "**Opgave 4.9** Gebruik een **for** loop en een **range()** functie om veelvouden van 3 af te\n",
    "drukken, beginnend bij 21, aftellend tot 3, in slechts twee regels code."
   ]
  },
  {
   "cell_type": "markdown",
   "metadata": {},
   "source": [
    "### 4.2.4 for loop oefeningen\n",
    "\n",
    "Om grip te krijgen op het gebruik van **for** loops, zijn hier een paar oefeningen:\n",
    "\n",
    "**Opgave 4.10** Je hebt al code gecreëerd voor een while loop waarin om vijf getallen wordt\n",
    "gevraagd en het totaal getoond wordt. Doe dat nu met een for loop.\n",
    "\n",
    "**Opgave 4.11** Je hebt ook code gecreëerd voor een while loop die aftelt van 10 tot nul en dan “Start!”\n",
    "print. Doe dat nu met een for loop.\n",
    "\n",
    "**Opgave 4.12** Kan je met een **for** loop de gebruiker getallen laten ingeven en stoppen zodra de gebruiker nul ingeeft?"
   ]
  },
  {
   "cell_type": "markdown",
   "metadata": {},
   "source": [
    "## 4.3 Geneste loops\n",
    "\n",
    "Je kunt een loop in een andere loop stoppen.\n",
    "Dat is een simpele uitspraak, maar ook een van de lastigste concepten voor veel studenten\n",
    "om te begrijpen.\n",
    "\n",
    "Hier volgt eerst een voorbeeld van een dubbel-geneste loop, dus een loop die een andere\n",
    "loop bevat. In dat geval spreken programmeurs vaak over een “buitenste loop” en\n",
    "“binnenste loop.” De binnenste loop is een deel van het codeblok van de buitenste loop."
   ]
  },
  {
   "cell_type": "code",
   "execution_count": null,
   "metadata": {},
   "outputs": [],
   "source": [
    "for i in range(3):\n",
    "    print(\"De buitenste loop begint met i =\", i)\n",
    "    for j in range(3):\n",
    "        print(\"De binnenste loop begint met j =\", j)\n",
    "        print(\"(i,j) = (\" + str(i) + \",\" + str(j) + \")\")\n",
    "        print(\"De binnenste loop eindigt met j =\", j)\n",
    "    print(\"De buitenste loop eindigt met i =\", i )"
   ]
  },
  {
   "cell_type": "markdown",
   "metadata": {},
   "source": [
    "Bestudeer deze code en output totdat je hem volledig begrijpt!\n",
    "\n",
    "De code geeft eerst aan variabele `i` de waarde 0 en geeft dan aan variabele `j` de waardes\n",
    "0, 1, en 2. Dan geeft het aan `i` de waarde 1 en laat `j` weer de waardes 0, 1, en 2 aannemen.\n",
    "Tenslotte geeft het `i` de waarde 2, en laat `j` weer 0, 1, en 2 aannemen. Dus deze code\n",
    "verwerkt alle paren $(i,j)$ waarbij `i` en `j` 0, 1, of 2 zijn.\n",
    "Merk op dat de waardes voor variabelen in de buitenste loop ook beschikbaar zijn voor de\n",
    "binnenste loop. `i` bestaat zowel in de buitenste als in de binnenste loop.\n",
    "Stel je voor dat je alle paren $(i,j)$ wilt afdrukken waarbij `i` en `j` de waardes 0 tot en met 3\n",
    "kunnen aannemen, maar `j` altijd groter moet zijn dan `i`. Dit gaat als volgt:"
   ]
  },
  {
   "cell_type": "code",
   "execution_count": null,
   "metadata": {},
   "outputs": [],
   "source": [
    "for i in range(4):\n",
    "    for j in range(i + 1, 4):\n",
    "        print(\"(\" + str(i) + \",\" + str(j) + \")\")"
   ]
  },
  {
   "cell_type": "markdown",
   "metadata": {},
   "source": [
    "Zie je hoe de waarde van `i` wordt gebruikt om het bereik van `j` te bepalen?\n",
    "\n",
    "**Opgave 4.13** Schrijf een programma dat alle paren $(i,j)$ afdrukt, waarbij $i$ en $j$ de waardes\n",
    "0 tot en met 3 kunnen aannemen, maar ze nooit dezelfde waarde mogen hebben.\n",
    "\n",
    "Je kunt natuurlijk ook **while** loops nesten of **for** loops en **while** loops door elkaar heen\n",
    "gebruiken.\n",
    "\n",
    "Als je dubbel-geneste loops begrijpt, zal het waarschijnlijk geen verrassing zijn te horen\n",
    "dat je ook drievoudig-geneste loops kunt gebruiken, of viervoudig-geneste loops, of zelfs\n",
    "dieper. In de praktijk zie je echter zelden een loop die dieper genest is dan drievoudig."
   ]
  },
  {
   "cell_type": "code",
   "execution_count": null,
   "metadata": {},
   "outputs": [],
   "source": [
    "for i in range(3):\n",
    "    for j in range(3):\n",
    "        for k in range(3):\n",
    "            print(\"(\" + str(i) + \",\" + str(j) + \",\" + str(k) + \")\")"
   ]
  },
  {
   "cell_type": "markdown",
   "metadata": {},
   "source": [
    "## 4.4 Gegevens één voor één verwerken\n",
    "\n",
    "**Opgave 4.14** Een gebruiker geeft je, één voor één, tien getallen en vraagt je een programma te schrijven dat bepaalt welke het grootste is en hoeveel er deelbaar zijn door 3.\n",
    "\n",
    "\n",
    "# Wat je geleerd hebt\n",
    "\n",
    "In dit hoofdstuk is het volgende besproken:\n",
    "+ Wat loops zijn\n",
    "+ **while** loops\n",
    "+ **for** loops\n",
    "+ Eindeloze loops\n",
    "+ Geneste loops\n",
    "+ Gegevens één voor één verwerken\n"
   ]
  }
 ],
 "metadata": {
  "kernelspec": {
   "display_name": "Python 3",
   "language": "python",
   "name": "python3"
  },
  "language_info": {
   "codemirror_mode": {
    "name": "ipython",
    "version": 3
   },
   "file_extension": ".py",
   "mimetype": "text/x-python",
   "name": "python",
   "nbconvert_exporter": "python",
   "pygments_lexer": "ipython3",
   "version": "3.8.8"
  }
 },
 "nbformat": 4,
 "nbformat_minor": 1
}
