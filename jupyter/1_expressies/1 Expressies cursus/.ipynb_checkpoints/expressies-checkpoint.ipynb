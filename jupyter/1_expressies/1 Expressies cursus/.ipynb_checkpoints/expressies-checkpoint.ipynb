{
 "cells": [
  {
   "cell_type": "markdown",
   "metadata": {
    "collapsed": true
   },
   "source": [
    "# Hoofdstuk 1: Expressies"
   ]
  },
  {
   "cell_type": "markdown",
   "metadata": {},
   "source": [
    "In dit hoofdstuk starten we met \"expressies\". Je kunt dit vergelijken met berekeningen die je ook kunt uitvoeren met een rekenmachine. "
   ]
  },
  {
   "cell_type": "markdown",
   "metadata": {},
   "source": [
    "## 1.1 Resultaten tonen\n",
    "\n",
    "Als je een expressie schrijft in de Python shell, en hem uitvoert, wordt het resultaat van de\n",
    "expressie eronder getoond."
   ]
  },
  {
   "cell_type": "markdown",
   "metadata": {},
   "source": [
    "![title](./images/expressies1.jpg \"Expressie in Python shell\")"
   ]
  },
  {
   "cell_type": "markdown",
   "metadata": {},
   "source": [
    "Wanneer je echter een programma schrijft dat enkel de expressie $5 + 7$ bevat, dan zie je geen resultaat. In plaats daarvan moet je voor programma’s\n",
    "altijd expliciet aangeven dat je resultaten wilt tonen.\n",
    "Ook al gaat dit hoofdstuk over expressies, we moeten toch eerst even de functie **print** tonen, de functie die het mogelijk maakt resultaten te laten zien.\n",
    "\n",
    "De **print** functie gebruik je als volgt: je schrijft het woord **print**, gevolgd door een\n",
    "rond openingshaakje, gevolgd door hetgeen je wilt laten zien, gevolgd door een rond\n",
    "sluithaakje. \n",
    "\n",
    "Bijvoorbeeld:"
   ]
  },
  {
   "cell_type": "code",
   "execution_count": null,
   "metadata": {},
   "outputs": [],
   "source": [
    "print(\"Welkom bij IT Essentials\")"
   ]
  },
  {
   "cell_type": "markdown",
   "metadata": {},
   "source": [
    "Je kunt meerdere dingen tegelijkertijd laten zien met een **print()** functie, door alles wat je\n",
    "wilt laten zien tussen de haakjes te zetten, met komma’s ertussen. De **print()** functie laat\n",
    "dan al die items zien, met spaties ertussen. Bijvoorbeeld:"
   ]
  },
  {
   "cell_type": "code",
   "execution_count": null,
   "metadata": {},
   "outputs": [],
   "source": [
    "print(\"Ik\", \"heb\", 2, 'appels', \"en\", 1, \"banaan\")"
   ]
  },
  {
   "cell_type": "code",
   "execution_count": null,
   "metadata": {},
   "outputs": [],
   "source": [
    "print(5 + 7)"
   ]
  },
  {
   "cell_type": "markdown",
   "metadata": {},
   "source": [
    "## 1.2 Datatypes"
   ]
  },
  {
   "cell_type": "markdown",
   "metadata": {},
   "source": [
    " Er zijn drie verschillende datatypes die je op dit moment moet kennen,\n",
    "en dat zijn strings, integers, en floats."
   ]
  },
  {
   "cell_type": "markdown",
   "metadata": {},
   "source": [
    "### 1.2.1 Strings"
   ]
  },
  {
   "cell_type": "markdown",
   "metadata": {},
   "source": [
    "Een string is een tekst, die bestaat uit nul of meer tekens, omsloten door aanhalingstekens.\n",
    "Je mag dubbele of enkele aanhalingstekens gebruiken. Wat je kiest maakt niet uit, bijvoorbeeld:\n",
    "\"appel\" is equivalent met 'appel'. Echter, als je tekst een enkel aanhalingsteken\n",
    "bevat, moet je hem om problemen te voorkomen omsluiten met dubbele aanhalingstekens;\n",
    "dus \"mango's\" is een correcte string, terwijl 'mango's' niet correct is. Hetzelfde geldt natuurlijk\n",
    "voor een dubbel aanhalingsteken in een string, die dan omsloten moet worden\n",
    "door enkele aanhalingstekens.\n",
    "Maar wat moet je doen als een string zowel dubbele als enkele aanhalingstekens bevat? Je\n",
    "kunt dat oplossen door in de string een “backslash” (`\\`) op te nemen voor ieder dubbel of enkel \n",
    "aanhalingsteken dat in de string staat. Dit vertelt Python dat dat aanhalingsteken\n",
    "behandeld moet worden als een teken in de string, en niet als een afsluiting van de string.\n",
    "Dus `'mango\\'s'` is de correcte manier in python om de string mango's weer te geven."
   ]
  },
  {
   "cell_type": "code",
   "execution_count": null,
   "metadata": {},
   "outputs": [],
   "source": [
    "print('mango\\'s')"
   ]
  },
  {
   "cell_type": "markdown",
   "metadata": {},
   "source": [
    "Maar wat moet je dan doen als je een echte backslash wilt opnemen in de string, en die\n",
    "backslash moet dan ook nog eens staan voor een dubbel of enkel aanhalingsteken? Dat kun\n",
    "je oplossen door voor de backslash een extra backslash op te nemen, wat er een teken in de\n",
    "string van maakt in plaats van een aanduiding dat wat erachter komt letterlijk genomen\n",
    "moet worden. Bijvoorbeeld, controleer wat de volgende code doet als je hem uitvoert:"
   ]
  },
  {
   "cell_type": "code",
   "execution_count": null,
   "metadata": {},
   "outputs": [],
   "source": [
    "print('mango\\\\\\'s')"
   ]
  },
  {
   "cell_type": "markdown",
   "metadata": {},
   "source": [
    "### 1.2.2 Integers"
   ]
  },
  {
   "cell_type": "markdown",
   "metadata": {},
   "source": [
    "Integers zijn gehele getallen, die positief of negatief (of nul) kunnen zijn. Er is een zekere\n",
    "grens aan hoe groot integers kunnen worden, die afhankelijk is van je computer en besturingssysteem.\n",
    "Voor de meeste toepassingen maakt dit niet uit, en kom je nooit aan die\n",
    "grenzen toe. Python is niet als rekenmachines met een 10-cijfer display.\n",
    "Er zijn meerdere manieren mogelijk om een specifieke integer-waarde te schrijven. 1 is\n",
    "hetzelfde als +1 (er zijn nog meer manieren om 1 te schrijven, maar die volgen in een\n",
    "later hoofdstuk). Dus zowel print( 1 ) als print( +1 ) geven hetzelfde resultaat. Voor\n",
    "strings is dat natuurlijk anders: de string \"1\" is niet hetzelfde als de string \"+1\".\n",
    "Als je integers in Python gebruikt, mag je ze niet schrijven met scheiders tussen de\n",
    "veelvouden van 1000 om ze leesbaarder te maken. Je moet het getal 1 miljard dus schrijven\n",
    "als 1000000000 en niet als 1,000,000,000 (de Engelse conventie) of 1.000.000.000.\n",
    "Bestudeer de volgende code en bedenk wat er gebeurt als je hem uitvoert."
   ]
  },
  {
   "cell_type": "code",
   "execution_count": null,
   "metadata": {},
   "outputs": [],
   "source": [
    "print(1,000,000,000)"
   ]
  },
  {
   "cell_type": "markdown",
   "metadata": {},
   "source": [
    "### 1.2.3 Floats"
   ]
  },
  {
   "cell_type": "markdown",
   "metadata": {},
   "source": [
    "Floats, wat kort is voor “floating-point getallen” (“gebroken getallen”), zijn getallen met\n",
    "decimalen. Bijvoorbeeld, 3.14159265 is een float. Merk op dat je een punt in plaats van\n",
    "een komma moet gebruiken als decimaal scheidingsteken. Veel landen gebruiken\n",
    "een komma als decimaal scheidingsteken, maar Python houdt zich aan de conventie van\n",
    "Engelstalige landen en gebruikt daarom de punt.\n",
    "Als je een integer hebt die je wilt gebruiken als float, kun je dat doen door er .0 achter te\n",
    "zetten. Bijvoorbeeld, 13 is een integer, maar 13.0 is een float. Ze geven nog steeds dezelfde\n",
    "waarde weer en als je ze in code met elkaar vergelijkt, dan\n",
    "zal Python zeggen dat ze hetzelfde zijn. In een volgend hoofdstuk gaan we hier verder op in.\n",
    "\n",
    "Er zijn bepaalde begrenzingen aan de grootte van de floats, en aan de precisie. Het is\n",
    "onwaarschijnlijk dat je ooit de maximale groottes bereikt, aangezien Python wetenschappelijke\n",
    "notatie voor grote getallen gebruikt. Maar als je Python gebruikt voor zeer exacte\n",
    "berekeningen, kun je wel in de problemen komen met precisie. Voor de meeste toepassingen\n",
    "gebeurt dat niet, maar als je een natuurkundige bent wiens berekeningen grote\n",
    "getallen omvatten op quantumniveau, moet je je wel bewust zijn van deze beperkingen."
   ]
  },
  {
   "cell_type": "markdown",
   "metadata": {},
   "source": [
    "Door de manier waarop Python floats opslaat, kunnen bepaalde getallen niet precies\n",
    "vastgelegd worden. Bijvoorbeeld, het statement"
   ]
  },
  {
   "cell_type": "code",
   "execution_count": null,
   "metadata": {},
   "outputs": [],
   "source": [
    "print((431 / 100) * 100)"
   ]
  },
  {
   "cell_type": "markdown",
   "metadata": {},
   "source": [
    "geeft als antwoord 430.99999999999994, en niet 431 zoals je zou verwachten. Als je weet dat de\n",
    "uitkomst van een berekening waarin floats zitten een integer moet zijn, dan doe je er goed\n",
    "aan om de uitkomst af te ronden naar het dichtstbijzijnde gehele getal. Dat kun je doen\n",
    "met behulp van de **round()** functie (wat later in de cursus aan bod komt)."
   ]
  },
  {
   "cell_type": "markdown",
   "metadata": {},
   "source": [
    "## 1.3 Expressies\n",
    "\n",
    "Dan kan nu eindelijk het onderwerp van dit hoofdstuk onder de loep genomen worden,\n",
    "namelijk “expressies”. Een expressie is een combinatie van één of meerdere waardes (zoals\n",
    "strings, integers of floats) met behulp van operatoren, die dan een nieuwe waarde oplevert.\n",
    "Je kunt je expressies dus voorstellen als berekeningen.\n",
    "\n",
    "### 1.3.1 Eenvoudige berekeningen\n",
    "Eenvoudige berekeningen worden gemaakt door twee waardes te combineren met een\n",
    "operator ertussenin. Een aantal voor de hand liggende operatoren zijn:\n",
    "<table>\n",
    "<tr><td>+</td><td>optelling</td></tr>\n",
    "<tr><td>-</td><td>aftrekking</td></tr>\n",
    "<tr><td>*</td><td>vermenigvuldiging</td></tr>\n",
    "<tr><td>/</td><td>deling </td></tr>\n",
    "<tr><td>//</td><td>integer deling </td></tr>\n",
    "<tr><td>**</td><td>machtsverheffing </td></tr>\n",
    "<tr><td>%</td><td>modulo </td></tr>\n",
    "</table>\n",
    "\n",
    "Hier volgen een paar voorbeelden:\n"
   ]
  },
  {
   "cell_type": "code",
   "execution_count": null,
   "metadata": {},
   "outputs": [],
   "source": [
    "print(14 + 5)\n",
    "print(14 - 5)\n",
    "print(14 * 5)\n",
    "print(14 / 5)\n",
    "print(14 // 5)\n",
    "print(14 ** 5)\n",
    "print(14 % 5)"
   ]
  },
  {
   "cell_type": "markdown",
   "metadata": {},
   "source": [
    "Je kent waarschijnlijk bovenstaande operatoren, behalve misschien de integer\n",
    "deling en de modulo.\n",
    "\n",
    "De integer deling (ook wel genoemd “floor division”) is simpelweg een deling die naar\n",
    "beneden afrondt naar een geheel getal. Als er floats in de berekening zitten, is het resultaat\n",
    "nog steeds een float, maar naar beneden afgerond. Als de berekening alleen integers\n",
    "omvat, is het resultaat een integer.\n",
    "\n",
    "De modulo operator (%) produceert de rest die overblijft na deling. Bijvoorbeeld: als je 14\n",
    "deelt door 5, is de uitkomst 2.8. Dat betekent dat je twee keer 5 kan aftrekken van 14, en\n",
    "dan nog steeds een positief getal overhoudt, maar als je het een derde keer aftrekt wordt het\n",
    "resultaat negatief. Dus als je 5 twee keer aftrekt van 14, rest er een getal kleiner dan 5. Deze\n",
    "rest is wat de modulo operator oplevert.\n",
    "\n",
    "In eenvoudige termen: als je 14 koekjes heb die je moet verdelen over 5 kinderen, kan je\n",
    "ieder kind 2 koekjes geven. Je hebt dan nog 4 koekjes over. \n",
    "Dus als je 14 deelt door 5 met integer deling, geeft dat 2 (koekjes per kind),\n",
    "terwijl 14 modulo 5 als rest 4 (koekjes de jij overhoudt) geeft.\n",
    "\n",
    "De code hierboven bestaat uit meerdere regels. Iedere regel is\n",
    "één “statement”, bestaande uit een commando dat Python uitvoert (in de code hierboven\n",
    "is dat voor iedere regel een **print()** commando). De meeste programmeertalen stellen\n",
    "het als een verplichting dat ieder statement eindigt met een speciaal teken, bijvoorbeeld\n",
    "een puntkomma (;). Python verlangt dat niet, maar dan moet ieder statement ook op zijn\n",
    "eigen regel staan. In principe mag je meerdere Python statements op één regel zetten,\n",
    "maar dan moeten er puntkomma’s tussen de statements staan. In de praktijk doen Python\n",
    "programmeurs dat niet, omdat het code lelijk, slecht leesbaar en slecht onderhoudbaar\n",
    "maakt. Volg de Python-gewoonte (en de coding conventions) en plaats ieder statement op zijn eigen\n",
    "regel.\n",
    "\n",
    "### 1.3.2 Complexe berekeningen\n",
    "Je mag waardes en operatoren combineren om grotere berekeningen te maken, net zoals je\n",
    "kunt met geavanceerde rekenmachines. Je mag daarbij haakjes gebruiken om de evaluatievolgorde\n",
    "te bepalen, en je mag die haakjes zelfs nesten. Zonder haakjes zal Python de\n",
    "operatoren evalueren in de volgorde volgens de wiskundige prioriteiten van de operatoren.\n",
    "\n",
    "|Operator|Prioriteit|\n",
    "|-|-|\n",
    "|`()`|1|\n",
    "|`**`|2|\n",
    "|`*`,`/`,`//`,`%`|3|\n",
    "|`+`,`-`|4|\n",
    "\n",
    "Bewerkingen met dezelfde prioriteit worden van links naar rechts uitgevoerd.\n",
    " \n",
    "Bekijk de berekening hieronder en probeer te bepalen wat de uitkomst is voordat je hem\n",
    "uitvoert."
   ]
  },
  {
   "cell_type": "code",
   "execution_count": null,
   "metadata": {},
   "outputs": [],
   "source": [
    "print(5*2-3+4/2)"
   ]
  },
  {
   "cell_type": "code",
   "execution_count": null,
   "metadata": {},
   "outputs": [],
   "source": [
    "print( 5*2 - 3+4 /2)"
   ]
  },
  {
   "cell_type": "markdown",
   "metadata": {},
   "source": [
    "Even enkele opmerkingen over deze berekening.\n",
    "Op de eerste plaats valt het op dat de uitkomst een float is (zelfs al zijn er geen decimalen).\n",
    "De reden is dat er een deling in de berekening zit, en dat betekent voor Python dat de\n",
    "uitkomst automatisch een float is.\n",
    "Op de tweede plaats is het zo dat de spaties geen invloed hebben op de volgorde waarin de bewerkingen door Python\n",
    "worden uitgevoerd. "
   ]
  },
  {
   "cell_type": "markdown",
   "metadata": {},
   "source": [
    "**Opgave 1.1**\n",
    "Schrijf een programma dat het aantal seconden in een week berekent. Je moet de berekening doen in Python code."
   ]
  },
  {
   "cell_type": "code",
   "execution_count": null,
   "metadata": {},
   "outputs": [],
   "source": []
  },
  {
   "cell_type": "markdown",
   "metadata": {},
   "source": [
    "### 1.3.3 String expressies\n",
    "\n",
    "Je kunt de plus (+) gebruiken om twee strings aan elkaar te “plakken” en je\n",
    "kunt de ster (∗) gebruiken met een string en een integer om een string te maken die een\n",
    "herhaling van de originele string bevat. Zie hier:\n"
   ]
  },
  {
   "cell_type": "code",
   "execution_count": null,
   "metadata": {},
   "outputs": [],
   "source": [
    "print(\"tot\" + \"ziens\")\n",
    "print(3 * \"hallo\")\n",
    "print(\"tot ziens\" * 3)"
   ]
  },
  {
   "cell_type": "markdown",
   "metadata": {},
   "source": [
    "Je kunt geen getal optellen bij een string, of twee strings met elkaar vermenigvuldigen.\n",
    "Zulke operatoren zijn niet gedefinieerd, en geven foutmeldingen. Geen van de andere\n",
    "operatoren werkt voor strings.\n",
    "\n",
    "### 1.3.4 Type casting\n",
    "\n",
    "Soms moet je het datatype van een waarde veranderen in een ander datatype. Je kunt dat doen\n",
    "met “type casting” functies.\n",
    "\n",
    "Type casting functies nemen de parameter waarde die tussen de haakjes is gegeven, en\n",
    "geven een waarde terug die (bijna) hetzelfde is als de parameter waarde, maar van een\n",
    "ander datatype. De drie belangrijkste type casting functies zijn:\n",
    "* **int()** geeft de parameter waarde terug als integer (afgekapt na de komma)\n",
    "* **float()** geeft de parameter waarde terug als float\n",
    "* **str()** geeft de parameter waarde terug als string.\n",
    "\n",
    "Bekijk de verschillen tussen de volgende twee regels code:"
   ]
  },
  {
   "cell_type": "code",
   "execution_count": null,
   "metadata": {},
   "outputs": [],
   "source": [
    "print(15 / 4)\n",
    "print(int(15 / 4))"
   ]
  },
  {
   "cell_type": "code",
   "execution_count": null,
   "metadata": {},
   "outputs": [],
   "source": [
    "print(15 + 4)\n",
    "print(float(15 + 4))"
   ]
  },
  {
   "cell_type": "code",
   "execution_count": null,
   "metadata": {},
   "outputs": [],
   "source": [
    "print(\"Ik heb \" + str(15) + \" appels.\")"
   ]
  },
  {
   "cell_type": "markdown",
   "metadata": {},
   "source": [
    "**Opgave 1.2**\n",
    "Een boek kost in de winkel €24,95, maar boekwinkels krijgen 40 procent\n",
    "korting bij inkoop. Het verschepen van boeken kost €3 voor het eerste boek, en 75 cent\n",
    "voor ieder volgende boek. Bereken hoeveel de winkel betaalt voor 60 boeken.\n"
   ]
  },
  {
   "cell_type": "code",
   "execution_count": null,
   "metadata": {},
   "outputs": [],
   "source": []
  },
  {
   "cell_type": "markdown",
   "metadata": {},
   "source": [
    "# Wat je geleerd hebt\n",
    "\n",
    "In dit hoofdstuk is het volgende besproken:\n",
    "+ Het gebruik van de **print()** functie om zaken op het scherm te tonen\n",
    "+ Datatypes: string, integer en float\n",
    "+ Berekeningen\n",
    "+ String expressies\n",
    "+ Type casting tussen strings, integers, en floats door gebruik te maken van **int()**, **float()** en **str()**\n"
   ]
  }
 ],
 "metadata": {
  "kernelspec": {
   "display_name": "Python 3",
   "language": "python",
   "name": "python3"
  },
  "language_info": {
   "codemirror_mode": {
    "name": "ipython",
    "version": 3
   },
   "file_extension": ".py",
   "mimetype": "text/x-python",
   "name": "python",
   "nbconvert_exporter": "python",
   "pygments_lexer": "ipython3",
   "version": "3.7.3"
  }
 },
 "nbformat": 4,
 "nbformat_minor": 1
}
