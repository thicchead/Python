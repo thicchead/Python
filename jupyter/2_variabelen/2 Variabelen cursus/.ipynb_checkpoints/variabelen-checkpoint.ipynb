{
 "cells": [
  {
   "cell_type": "markdown",
   "metadata": {
    "collapsed": true
   },
   "source": [
    "# Hoofdstuk 2: Variabelen"
   ]
  },
  {
   "cell_type": "markdown",
   "metadata": {},
   "source": [
    "Als je met code werkt, ben je vaak bezig met het ontwerpen van een procedure (of “algoritme”)\n",
    "dat een probleem op een algemeen toepasbare manier oplost. Bijvoorbeeld, in\n",
    "opgave 1.1 moest je de prijs van 60 boeken uitrekenen. De code die je schreef lost het probleem\n",
    "alleen op voor precies 60 boeken voor een bepaalde prijs. Als je een dergelijk probleem\n",
    "algemener wilt oplossen, moet je variabelen gebruiken om waardes in op te slaan."
   ]
  },
  {
   "cell_type": "markdown",
   "metadata": {},
   "source": [
    "## 2.1 Variabelen en waarden"
   ]
  },
  {
   "cell_type": "markdown",
   "metadata": {},
   "source": [
    "Een variabele is een plaats in het geheugen van de computer die een naam heeft gekregen,\n",
    "en waarin je een waarde kunt opslaan. De naam mag je zelf kiezen, en wordt over het\n",
    "algemeen de “variabele naam” genoemd.\n",
    "Om een variabele te creëren in Python (dus om een variabele naam te kiezen) moet je\n",
    "een waarde “toekennen” aan de gekozen naam middels het is-gelijk (=) symbool. Aan de\n",
    "linkerkant van het is-gelijk symbool zet je de variabele naam, en aan de rechterkant de\n",
    "waarde die je wilt opslaan in de variabele. Hier volgt een voorbeeld:"
   ]
  },
  {
   "cell_type": "code",
   "execution_count": null,
   "metadata": {},
   "outputs": [],
   "source": [
    "x = 5\n",
    "print(x)"
   ]
  },
  {
   "cell_type": "markdown",
   "metadata": {},
   "source": [
    "In deze code gebeuren twee dingen. Ten eerste wordt er een variabele gecrëerd met de\n",
    "naam `x` door er een waarde in op te slaan, in dit geval de waarde 5. In het Engels heet\n",
    "dit een “assignment” en het is-gelijk teken wordt ook wel de “assignment operator” genoemd.\n",
    "Ten tweede wordt de inhoud van de variabele x op het scherm getoond middels\n",
    "**print()**. Merk op dat `print(x)` niet de letter `x` toont, maar de waarde die in de variabele\n",
    "`x` is opgeslagen.\n",
    "\n",
    "Je kunt je de variabele `x` voorstellen als een doos waarop je met een dikke, zwarte viltstift\n",
    "een `x` hebt geschreven, zodat je hem later gemakkelijk terug kunt vinden. Je kunt iets in\n",
    "de doos stoppen en je kunt in de doos kijken om te zien wat er in zit (er kan wel slechts\n",
    "één ding tegelijkertijd in de doos zitten). Je kunt aan de inhoud van de doos refereren door\n",
    "de naam te gebruiken die je op de doos hebt geschreven. De term “variabele” duidt op de\n",
    "variabele naam, dus de letter `x` op de doos. De term “waarde” duidt op de waarde die is\n",
    "opgeslagen in de variabele, dus de inhoud van de doos.\n",
    "\n",
    "Aan de rechterkant van het is-gelijk teken kun je alles plaatsen wat een waarde oplevert.\n",
    "Het hoeft niet een enkel getal te zijn. Het mag ook een berekening zijn, of een string, of een\n",
    "aanroep van een functie die een waarde oplevert (bijvoorbeeld de **int()** functie).\n",
    "\n",
    "**Opgave 2.1** In het vorige hoofdstuk was er een oefenopgave die je het aantal seconden in\n",
    "een week liet uitrekenen. Kopieer die berekening in een programma en ken hem toe aan\n",
    "een variabele. Druk dan de variabele af.\n",
    "\n",
    "De eerste keer in je programma dat je een waarde toekent aan een specifieke variabele\n",
    "naam, wordt de bijbehorende variabele gecreëerd. Als je later een andere waarde aan\n",
    "dezelfde variabele toekent, wordt de eerste waarde “overschreven.” In de metafoor van\n",
    "de doos: je maakt de doos leeg en stopt er iets nieuws in. Een variabele bevat altijd de\n",
    "laatst-verkregen waarde."
   ]
  },
  {
   "cell_type": "code",
   "execution_count": null,
   "metadata": {},
   "outputs": [],
   "source": [
    "x = 5\n",
    "print(x)\n",
    "x = 7 * 9 + 13 # overschrijft de vorige waarde van x\n",
    "print(x)\n",
    "x = \"En nu iets heel anders...\"\n",
    "print(x)\n",
    "x = int(15 / 4) - 27\n",
    "print(x)"
   ]
  },
  {
   "cell_type": "markdown",
   "metadata": {},
   "source": [
    "Als een variabele is aangemaakt (en dus een waarde heeft) kun je hem overal in je code\n",
    "gebruiken waar je waardes gebruikt. Je kunt bijvoorbeeld de variabele gebruiken in een\n",
    "berekening."
   ]
  },
  {
   "cell_type": "code",
   "execution_count": null,
   "metadata": {},
   "outputs": [],
   "source": [
    "x = 2\n",
    "y = 3\n",
    "print(\"x =\", x)\n",
    "print(\"y =\", y)\n",
    "print(\"x * y =\", x * y)\n",
    "print(\"x + y =\", x + y)"
   ]
  },
  {
   "cell_type": "markdown",
   "metadata": {},
   "source": [
    "Je kunt de inhoud van een variabele kopiëren in een andere variabele, via de assignment\n",
    "operator."
   ]
  },
  {
   "cell_type": "code",
   "execution_count": null,
   "metadata": {},
   "outputs": [],
   "source": [
    "x = 2\n",
    "y = 3\n",
    "print(\"x =\", x)\n",
    "x = y\n",
    "print(\"x =\", x)"
   ]
  },
  {
   "cell_type": "markdown",
   "metadata": {},
   "source": [
    "Als je een waarde toekent aan een variabele, mag je zelfs de variabele zelf gebruiken aan\n",
    "de rechterkant van de toekenning, zolang de variabele maar bestaat op het moment dat je\n",
    "dat doet. De rechterkant van een assignment wordt altijd volledig geëvalueerd voordat de\n",
    "toekenning plaatsvindt."
   ]
  },
  {
   "cell_type": "code",
   "execution_count": null,
   "metadata": {},
   "outputs": [],
   "source": [
    "x = 2\n",
    "print(x)\n",
    "x = x + 3\n",
    "print(x)"
   ]
  },
  {
   "cell_type": "markdown",
   "metadata": {},
   "source": [
    "Merk op dat de variabele gecreëerd moet zijn voordat je hem kunt gebruiken. De volgende\n",
    "code geeft een fout, omdat `dagen_per_year` nog niet gecreëerd is voordat hij gebruikt\n",
    "wordt in de eerste regel:"
   ]
  },
  {
   "cell_type": "code",
   "execution_count": null,
   "metadata": {},
   "outputs": [],
   "source": [
    "print(dagen_per_jaar)\n",
    "dagen_per_jaar = 365"
   ]
  },
  {
   "cell_type": "markdown",
   "metadata": {},
   "source": [
    "## 2.2 Variabele namen\n",
    "\n",
    "Tot op dit punt werden enkel variabelen `x`, `y` en `z` gebruikt (en een foute `dagen_per_jaar`).\n",
    "Je bent echter vrij om variabele namen te kiezen die je wilt, als je je daarbij maar aan een\n",
    "aantal eenvoudige regels houdt:\n",
    "+ Een variabele naam mag slechts bestaan uit letters, cijfers, en “underscores” (_).\n",
    "+ Een variabele naam moet beginnen met een letter of een underscore.\n",
    "+ Een variabele naam mag geen gereserveerd woord zijn.\n",
    "\n",
    "\"Gereserveerde woorden\" (of \"keywords\") zijn:\n",
    "\n",
    "![alt text](.\\images\\keywords.jpg \"Keywords\")\n",
    "\n",
    "Je mag zowel hoofd- als kleine letters gebruiken in variabele namen, maar je moet wel\n",
    "beseffen dat Python “case sensitive” is, dus gevoelig voor de verschillen tussen hoofd- en\n",
    "kleine letters. Bijvoorbeeld, de variabele naam `wereld` is voor Python niet hetzelfde als de\n",
    "variabele naam `Wereld`."
   ]
  },
  {
   "cell_type": "markdown",
   "metadata": {},
   "source": [
    "### 2.2.1 Conventies\n",
    "\n",
    "Programmeurs houden zich aan een flink aantal conventies wanneer ze variabele namen\n",
    "kiezen. De belangrijkste zijn de volgende:\n",
    "+ Programmeurs kiezen nooit een variabele naam die ook de naam is van een functie\n",
    "(of het nu een standaard Python functie betreft of een functie die ze zelf hebben\n",
    "geschreven). Als je dat doet, loop je de kans dat de functie niet langer door de code\n",
    "gebruikt kan worden, wat kan leiden tot uitermate vreemde fouten.\n",
    "Wat functies precies zijn zal later uitgebreid aan bod komen.\n",
    "+ Programmeurs proberen variabele namen zo te kiezen dat ze betekenisvol zijn in\n",
    "de context van het programma. Bijvoorbeeld, een variabele die het aantal seconden\n",
    "in een week bijhoudt, zou de naam `seconds_per_week` kunnen hebben, maar niet\n",
    "`ik_haat_mijn_baan`. Het zou nog erger zijn om het aantal seconden in een week op\n",
    "te slaan in een variabele `seconds_per_maand`.\n",
    "+ Een uitzondering op het kiezen van betekenisvolle variabele namen is het kiezen\n",
    "van namen voor “wegwerp variabelen,” dat wil zeggen, variabelen die slechts in een\n",
    "klein deel van de code gebruikt worden, naderhand niet meer gebruikt worden en\n",
    "die van zichzelf eigenlijk geen betekenis hebben. Programmeurs kiezen vaak één letter\n",
    "namen voor dit soort variabelen, zoals `i` of `j`.\n",
    "+ Om verwarring tussen hoofd- en kleine letters te vermijden, gebruiken programmeurs\n",
    "meestal alleen kleine letters in variabele namen.\n",
    "+ Als een variabele naam uit meerdere woorden bestaat, zetten programmeurs underscores\n",
    "tussen die woorden.\n",
    "+ Programmeurs kiezen nooit variabele namen die beginnen met een underscore. Het\n",
    "gebruik van dat soort namen is voorbehouden aan de auteurs van Python.\n",
    "\n",
    "Je moet proberen je voor je eigen code ook aan deze conventies te houden. De conventie\n",
    "met betrekking tot het kiezen van betekenisvolle variabele namen is vooral belangrijk, omdat\n",
    "het code leesbaar en onderhoudbaar maakt. Kijk bijvoorbeeld eens naar de volgende\n",
    "code:"
   ]
  },
  {
   "cell_type": "code",
   "execution_count": null,
   "metadata": {},
   "outputs": [],
   "source": [
    "a = 3.14159265\n",
    "b = 7.5\n",
    "c = 8.25\n",
    "d = a * b * b * c / 3\n",
    "print(d)"
   ]
  },
  {
   "cell_type": "markdown",
   "metadata": {},
   "source": [
    "Snap je wat deze code doet? Je ziet waarschijnlijk wel dat er een benadering van $\\pi$ in\n",
    "voorkomt, maar wat stelt `d` voor?\n",
    "\n",
    "Deze code berekent het volume van een kegel. Dat zou je waarschijnlijk niet geraden\n",
    "hebben, maar dat is wel wat er gebeurt. Wijzig de code zo dat het\n",
    "volume van een kegel met een hoogte van 4 meter berekend wordt. Welke wijziging maak\n",
    "je in de code? Als de hoogte in de formule staat, is het waarschijnlijk `b` of `c`. Maar welk\n",
    "van de twee? Als je een beetje wiskunde kent en je bekijkt de berekening van `d`, dan zie\n",
    "je dat `b` gekwadrateerd wordt in de berekening. Dat lijkt dus de voet van de kegel te zijn,\n",
    "wat zou betekenen dat `c` de hoogte is. Maar dat kun je niet zeker weten.\n",
    "Bekijk nu de volgende, equivalente code:"
   ]
  },
  {
   "cell_type": "code",
   "execution_count": null,
   "metadata": {},
   "outputs": [],
   "source": [
    "pi = 3.14159265\n",
    "straal = 7.5\n",
    "hoogte = 8.25\n",
    "volume_van_kegel = pi * straal * straal * hoogte / 3\n",
    "print(volume_van_kegel)"
   ]
  },
  {
   "cell_type": "markdown",
   "metadata": {},
   "source": [
    "Dat is een stuk leesbaarder, nietwaar? Als je nu de vraag krijgt om de code te wijzigen, zul je geen moment twijfelen."
   ]
  },
  {
   "cell_type": "markdown",
   "metadata": {},
   "source": [
    "### 2.2.2 Oefenen met variabele namen"
   ]
  },
  {
   "cell_type": "markdown",
   "metadata": {},
   "source": [
    "**Opgave 2.2** In de code hieronder wordt de waarde 1 toegekend aan een aantal (potentiële)\n",
    "variabele namen. Sommige hiervan zijn correct, andere niet. Identificeer de incorrecte\n",
    "namen en leg uit waarom ze incorrect zijn."
   ]
  },
  {
   "cell_type": "code",
   "execution_count": null,
   "metadata": {},
   "outputs": [],
   "source": [
    "classificatie = 1 # 1\n",
    "Classificatie = 1 # 2\n",
    "cl@ssificatie = 1 # 3\n",
    "class1f1cat1e = 1 # 4\n",
    "8classificatie = 1 # 5\n",
    "_classificatie = 1 # 6\n",
    "class = 1 # 7\n",
    "Class = 1 # 8"
   ]
  },
  {
   "cell_type": "markdown",
   "metadata": {},
   "source": [
    "**Antwoord** De derde, vijfde, en zevende zijn incorrect. De derde omdat er een at-sign (@)\n",
    "in zit, de vijfde omdat hij begint met een cijfer en de zevende omdat het een gereserveerd\n",
    "woord is (dat gelukkig opvalt vanwege de syntax highlighting). De andere zijn weliswaar\n",
    "correct, maar de zesde zou volgens de conventie vermeden moeten worden omdat het begint\n",
    "met een underscore en de tweede en achtste ook, omdat die een hoofdletter bevatten.\n",
    "De achtste is het ergst, want die lijkt op een gereserveerd woord."
   ]
  },
  {
   "cell_type": "markdown",
   "metadata": {},
   "source": [
    "### 2.2.3 Constanten\n",
    "\n",
    "Veel programmeertalen geven je de mogelijkheid om “constanten” te creëren, wat waardes\n",
    "zijn die aan een variabele zijn toegekend, die geen andere waarde meer kan krijgen. Het\n",
    "is conventie dat alle letters in dit soort variabele namen hoofdletters zijn. Constanten kunnen\n",
    "gebruikt worden om code leesbaarder en onderhoudbaarder te maken. Bijvoorbeeld,\n",
    "om voor een rekening van €24,95 exclusief BTW het eindbedrag te berekenen, kun je de\n",
    "volgende code gebruiken:"
   ]
  },
  {
   "cell_type": "code",
   "execution_count": null,
   "metadata": {},
   "outputs": [],
   "source": [
    "totaal = 24.95\n",
    "eind_totaal = totaal * 1.21\n",
    "print(eind_totaal)"
   ]
  },
  {
   "cell_type": "markdown",
   "metadata": {},
   "source": [
    "Het is echter leesbaarder om te schrijven:"
   ]
  },
  {
   "cell_type": "code",
   "execution_count": null,
   "metadata": {},
   "outputs": [],
   "source": [
    "BTW_FACTOR = 1.21\n",
    "\n",
    "totaal = 24.95\n",
    "eind_totaal = totaal * BTW_FACTOR\n",
    "print(eind_totaal)"
   ]
  },
  {
   "cell_type": "markdown",
   "metadata": {},
   "source": [
    "Niet alleen is dit leesbaarder, het maakt het ook gemakkelijk om de code aan te passen\n",
    "als de BTW tarieven wijzigen. Zeker als constanten meerdere malen terugkeren in code,\n",
    "is het beter om ze eenmalig een waarde te geven bovenin de code, waar ze gemakkelijk\n",
    "gevonden en gewijzigd kunnen worden. Als het numerieke waarden betreft, zoals de BTW\n",
    "factor, spreekt men vaak over “magische getallen”: getallen waarvan de waarde voor de\n",
    "code een speciale betekenis heeft, die niet duidelijk is als je alleen het getal ziet. Je bent dus\n",
    "beter af als je een betekenisvolle naam ziet in plaats van een getal.\n",
    "\n",
    "Hoewel constanten erg nuttig kunnen zijn, worden ze niet door Python ondersteund (wat\n",
    "erg jammer is). Dat wil zeggen dat in de code hierboven `BTW_FACTOR` een reguliere variabele\n",
    "is die overal in de code gewijzigd kan worden. Het is echter de gewoonte om dit soort\n",
    "variabelen die volledig uit hoofdletters bestaan te beschouwen als constanten die niet in\n",
    "de code gewijzigd mogen worden nadat ze hun initiële waarde hebben gekregen. Maak steeds gebruik van \n",
    "dit soort semi-constanten als er magische getallen in je code voorkomen."
   ]
  },
  {
   "cell_type": "markdown",
   "metadata": {},
   "source": [
    "## 2.3 Debuggen met variabelen\n",
    "\n",
    "Een veelvoorkomende oorzaak van functionele fouten in programma’s is dat variabelen\n",
    "blijken niet de waardes te bevatten waarvan je dacht dat ze ze bevatten. Een goede manier\n",
    "om je code te “debuggen” (dat wil zeggen, uit te vinden waar in je code fouten staan en\n",
    "die te verbeteren) is het printen van variabele namen op geschikte plaatsen. Bijvoorbeeld,\n",
    "de volgende code geeft een foutmelding als je hem uitvoert."
   ]
  },
  {
   "cell_type": "code",
   "execution_count": null,
   "metadata": {},
   "outputs": [],
   "source": [
    "nr1 = 5\n",
    "nr2 = 4\n",
    "nr3 = 5\n",
    "print(nr3 / (nr1 % nr2))\n",
    "nr1 = nr1 + 1\n",
    "print(nr3 / (nr1 % nr2))\n",
    "nr1 = nr1 + 1\n",
    "print(nr3 / (nr1 % nr2))\n",
    "nr1 = nr1 + 1\n",
    "print(nr3 / (nr1 % nr2))"
   ]
  },
  {
   "cell_type": "markdown",
   "metadata": {},
   "source": [
    "Misschien zie je wat het probleem is, maar stel dat je het niet ziet, hoe vind je dan uit\n",
    "wat er mis is? Je ziet dat de fout ontdekt wordt op regel 10, wat wil zeggen dat alles nog\n",
    "steeds werkte op regel 9. Als je een extra regel code zet tussen regel 9 en 10, die de waarde\n",
    "afdrukt van nr1, nr2, nr3 en misschien ook `nr1 % nr2`, dan ontdek je waarschijnlijk snel\n",
    "wat er misloopt. **print()** statements veranderen niks aan de variabelen, dus je kunt ze\n",
    "veilig toevoegen. Een fatsoenlijke manier om het probleem in deze code op te lossen (dus\n",
    "een andere manier dan gewoon de laatste regel te verwijderen) leer je in een later hoofdstuk.\n",
    "\n",
    "**Opgave 2.3** Voeg de extra regel toe aan de foute code."
   ]
  },
  {
   "cell_type": "markdown",
   "metadata": {},
   "source": [
    "## 2.4 Soft typing\n",
    "\n",
    "Alle variabelen hebben een data type. In veel programmeertalen wordt het data type van\n",
    "een variabele gespecificeerd op het moment dat de variabele gecreëerd wordt. Bijvoorbeeld,\n",
    "in C++ zet je het type van een variabele voor de variabele naam op het moment dat\n",
    "je de variabele definieert, als volgt:\n",
    "```\n",
    "int seconds_per_week = 7 * 24 * 60 * 60\n",
    "```\n",
    "Dit wordt “hard typing” genoemd. Hard typing heeft als voordeel dat als je een waarde in\n",
    "een variabele probeert te stoppen van het verkeerde type, het programma een foutmelding\n",
    "kan geven. Dit vermijdt een aantal vervelende problemen die kunnen optreden tijdens het\n",
    "schrijven of uitvoeren van een programma.\n",
    "\n",
    "In Python geef je niet een vast type aan een variabele, maar de variabele heeft wel een\n",
    "type, namelijk het type van de waarde die erin is opgeslagen. Dit betekent dat als een\n",
    "variabele een nieuwe waarde krijgt, het type ook kan veranderen. Dit wordt “soft typing”\n",
    "genoemd.\n",
    "\n",
    "De data types die je tot nu toe gezien hebt zijn integer, float en string. Je kunt het data type\n",
    "van een waarde of variabele zien met behulp van de functie **type()**."
   ]
  },
  {
   "cell_type": "code",
   "execution_count": null,
   "metadata": {},
   "outputs": [],
   "source": [
    "a = 3\n",
    "print(type(a))\n",
    "a = 3.0\n",
    "print(type(a))\n",
    "a = \"3.0\"\n",
    "print(type(a))"
   ]
  },
  {
   "cell_type": "markdown",
   "metadata": {},
   "source": [
    "Omdat variabelen een type hebben, past het effect van operatoren die tussen variabelen\n",
    "staan zich aan aan de types van de variabelen. Bijvoorbeeld, in de code hieronder wordt\n",
    "de optelling (+) twee keer gebruikt, en het effect verandert naar gelang de variabele types."
   ]
  },
  {
   "cell_type": "code",
   "execution_count": null,
   "metadata": {},
   "outputs": [],
   "source": [
    "a = 1\n",
    "b = 4\n",
    "c = \"1\"\n",
    "d = \"4\"\n",
    "print(a + b)\n",
    "print(c + d)"
   ]
  },
  {
   "cell_type": "markdown",
   "metadata": {},
   "source": [
    "Omdat `a` en `b` beide getallen zijn, is de `+` in `a + b` de numerieke optelling. Omdat `c` en `d`\n",
    "beide strings zijn, is de `+` in `c + d` de “concatenatie” (“vastplak”) operator.\n",
    "\n",
    "**Opgave 2.4** Wat gebeurt er in de code hierboven als je `a + c` probeert te printen? Als je het\n",
    "niet weet, probeer het dan.\n",
    "\n",
    "**Opgave 2.5** Wat toont de code hieronder? Denk erover na, en voer dan de code uit. Zorg\n",
    "dat je snapt wat er gebeurt."
   ]
  },
  {
   "cell_type": "code",
   "execution_count": null,
   "metadata": {},
   "outputs": [],
   "source": [
    "naam = \"John Cleese\"\n",
    "print(\"naam\")"
   ]
  },
  {
   "cell_type": "markdown",
   "metadata": {},
   "source": [
    "**Opgave 2.6** Wjzig de code hierboven zodat de naam van een bekend lid van Monty Python\n",
    "wordt getoond."
   ]
  },
  {
   "cell_type": "markdown",
   "metadata": {},
   "source": [
    "## 2.5 Verkorte operatoren\n",
    "\n",
    "Je maakt dus gebruik van de operatoren om de inhoud van variabelen in je code zo vaak te wijzigen\n",
    "als nodig is. Je kunt nieuwe waardes in bestaande variabelen stoppen.\n",
    "Vaak wil je dat inderdaad doen. Bijvoorbeeld, het komt in code vaak voor dat er 1 moet\n",
    "worden opgeteld bij een numerieke variabele. \n",
    "Omdat dit zo vaak gebeurt, bevat Python een aantal \"verkorte notaties\" om\n",
    "de inhoud van variabelen aan te passen.\n",
    "\n",
    "De volgende code:"
   ]
  },
  {
   "cell_type": "code",
   "execution_count": null,
   "metadata": {},
   "outputs": [],
   "source": [
    "aantal_bananen = 100\n",
    "aantal_bananen = aantal_bananen + 1\n",
    "print(aantal_bananen)"
   ]
  },
  {
   "cell_type": "markdown",
   "metadata": {},
   "source": [
    "is hetzelfde als:"
   ]
  },
  {
   "cell_type": "code",
   "execution_count": null,
   "metadata": {},
   "outputs": [],
   "source": [
    "aantal_bananen = 100\n",
    "aantal_bananen += 1\n",
    "print(aantal_bananen)"
   ]
  },
  {
   "cell_type": "markdown",
   "metadata": {},
   "source": [
    "Het verschil is de tweede regel. Als je iets wilt optellen bij een variabele, kun je `+=` gebruiken\n",
    "als assignment operator, met de variabele aan de linkerkant en wat je erbij op wilt\n",
    "tellen aan de rechterkant. Dit bespaart de moeite van het twee keer typen van de variabele\n",
    "naam en maakt je code over het algemeen leesbaarder (omdat programmeurs ervan\n",
    "uitgaan dat je de `+=` operator gebruikt als je ergens iets bij wilt optellen).\n",
    "Op vergelijkbare manier kun je `-=` gebruiken om iets af te trekken van een variabele, `*=`\n",
    "voor vermenigvuldiging, `/=` voor deling, `**=` voor machtsverheffing, etcetera. De meeste\n",
    "verkorte versies worden weinig gebruikt, behalve `+=`, die juist heel veel gebruikt wordt en\n",
    "`-=`, die zo nu en dan gebruikt wordt.\n",
    "\n",
    "**Opgave 2.7** Wat toont de code hieronder? Controleer of je gelijk hebt."
   ]
  },
  {
   "cell_type": "code",
   "execution_count": null,
   "metadata": {},
   "outputs": [],
   "source": [
    "aantal_bananen = 100\n",
    "aantal_bananen += 12\n",
    "aantal_bananen -= 13\n",
    "aantal_bananen *= 19\n",
    "aantal_bananen /= aantal_bananen\n",
    "print(aantal_bananen)"
   ]
  },
  {
   "cell_type": "markdown",
   "metadata": {},
   "source": [
    "## 2.6 Commentaar\n",
    "\n",
    "De code die je vanaf dit punt schrijft zal vaak meer dan vijf regels lang zal zijn. Dat is\n",
    "voldoende aanleiding om het gebruik van commentaarregels te bediscussiëren. Commentaarregels\n",
    "zijn teksten in code die Python negeert tijdens de uitvoering, maar die bedoeld\n",
    "zijn om specifieke delen van de code uit te leggen. Commentaar is niet alleen van nut\n",
    "voor andere mensen die je code moeten bestuderen en/of wijzigen, maar ook voor jezelf,\n",
    "aangezien je soms je eigen code moet wijzigen weken of maanden nadat je de code oorspronkelijk\n",
    "geschreven hebt, en je niet meer precies weet wat je gedaan hebt.\n",
    "\n",
    "Er zijn twee manieren om commentaar op te nemen in Python code. De eerste manier is\n",
    "door gebruik te maken van de “hash mark” (#), die aangeeft dat alles dat op dezelfde regel\n",
    "code rechts van de markering staat, commentaar is (mits de hash mark niet in een string\n",
    "staat). De tweede manier is door een stuk commentaar tekst, dat meerdere regels mag\n",
    "beslaan, vooraf te laten gaan door drie aanhalingstekens (dubbel of enkel), en dezelfde markering\n",
    "aan het einde van de commentaar tekst te zetten. Als je deze manier gebruikt, moet je wel de juiste indentatie toepassen. \n",
    "De reden is dat je feitelijk\n",
    "een string die uit meerdere regels bestaat in je code plaatst (dit komt bij het hoofdstuk strings aan bod).\n",
    "\n",
    "De volgende code laat een voorbeeld zien van beide manieren van becommentariëren:"
   ]
  },
  {
   "cell_type": "code",
   "execution_count": null,
   "metadata": {},
   "outputs": [],
   "source": [
    "#This is a comment in Python\n",
    "print(\"Start\")\n",
    "\"\"\"This would be a multiline comment\n",
    "in Python that spans several lines and\n",
    "describes your code, your day, or anything you want it to\"\"\"\n"
   ]
  },
  {
   "cell_type": "markdown",
   "metadata": {},
   "source": [
    "## 2.7 input()\n",
    "\n",
    "In veel programma’s wil je dat de gebruiker van het programma data verstrekt. Je kunt\n",
    "de gebruiker vragen een string in te typen met behulp van de functie **input()**. Wat functies zijn leren we later.\n",
    "Nu moet je enkel weten hoe je de functie **input()** kan gebruiken. De functie\n",
    "krijgt één parameter mee, namelijk een string. Deze string is de zogeheten “prompt.” Als\n",
    "**input()** wordt aangeroepen, wordt de prompt op het scherm gezet en mag de gebruiker\n",
    "een tekst ingeven. De gebruiker mag ingeven wat hij of zij wil, inclusief niks. De gebruiker\n",
    "sluit het ingeven af met een druk op de `Enter` toets. De retour waarde van de functie is\n",
    "hetgeen de gebruiker heeft ingegeven, exclusief de `Enter`.\n",
    "\n",
    "Het hangt van de omgeving waar je je programma in draait af hoe de gebruiker de ingave\n",
    "precies doet. Soms wordt er een rechthoek op het scherm getoond met de prompt ervoor\n",
    "waarin de gebruiker mag typen. Als je een Python programma draait op de command-line,\n",
    "moet de gebruiker ook de ingave op de command-line doen. Sommige editors tonen een\n",
    "popup-window waarin de gebruiker moet typen.\n",
    "\n",
    "Hier is een voorbeeld:"
   ]
  },
  {
   "cell_type": "code",
   "execution_count": null,
   "metadata": {},
   "outputs": [],
   "source": [
    "tekst = input(\"Geef een tekst in: \")\n",
    "print(\"Je hebt het volgende ingetypt:\", tekst)"
   ]
  },
  {
   "cell_type": "code",
   "execution_count": null,
   "metadata": {},
   "outputs": [],
   "source": [
    "nummer = input(\"Geef een getal: \")\n",
    "print(\"Je getal in het kwadraat is\", nummer * nummer)"
   ]
  },
  {
   "cell_type": "markdown",
   "metadata": {},
   "source": [
    "Het maakt niet uit wat je ingeeft, deze code geeft een runtime error. Omdat **input()** een\n",
    "string teruggeeft, wordt op de tweede regel een poging gedaan twee strings met elkaar\n",
    "te vermenigvuldigen en dat kan niet. Het maakt niet uit of je string een getal bevat: een\n",
    "string is een string. Je kunt het probleem oplossen middels type casting, bijvoorbeeld:"
   ]
  },
  {
   "cell_type": "code",
   "execution_count": null,
   "metadata": {},
   "outputs": [],
   "source": [
    "nummer = input(\"Geef een getal: \")\n",
    "nummer = int(nummer)\n",
    "print(\"Je getal in het kwadraat is\", nummer * nummer)\n",
    "\n",
    "ander_nummer = int(input(\"Geef nog een getal:\"))\n",
    "print(\"Ander nummer in het kwadraat is\", ander_nummer ** 2)\n"
   ]
  },
  {
   "cell_type": "markdown",
   "metadata": {},
   "source": [
    "Voor deze code geldt dat als de gebruiker een getal ingeeft, de code doet wat hij moet\n",
    "doen. Maar als de gebruiker iets anders ingeeft, dat niet in een getal omgezet kan worden,\n",
    "krijg je toch weer een runtime error. Ook dat probleem kan opgelost worden, maar dat is nu niet belangrijk (later natuurlijk wel).\n",
    "\n",
    "**Opgave 2.8** Schrijf code die de gebruiker twee getallen laat ingeven, en die dan toont wat\n",
    "de uitkomst is als je ze optelt en als je ze vermenigvuldigt. Je code mag een runtime error\n",
    "geven als de gebruiker iets ingeeft wat geen getal is."
   ]
  },
  {
   "cell_type": "markdown",
   "metadata": {},
   "source": [
    "# Wat je geleerd hebt\n",
    "\n",
    "In dit hoofdstuk is het volgende besproken:\n",
    "<ul>\n",
    "<li>Wat variabelen zijn\n",
    "<li>Het toekennen van een waarde aan een variabele\n",
    "<li>Correcte namen voor variabelen\n",
    "<li>Conventies met betrekking tot variabele namen\n",
    "<li>Soft typing\n",
    "<li>Het debuggen van code waarin variabelen onverwachte waardes hebben\n",
    "<li>Verkorte operatoren\n",
    "<li>Commentaar\n",
    "<li>**input()**\n",
    "</ul>"
   ]
  }
 ],
 "metadata": {
  "kernelspec": {
   "display_name": "Python 3",
   "language": "python",
   "name": "python3"
  },
  "language_info": {
   "codemirror_mode": {
    "name": "ipython",
    "version": 3
   },
   "file_extension": ".py",
   "mimetype": "text/x-python",
   "name": "python",
   "nbconvert_exporter": "python",
   "pygments_lexer": "ipython3",
   "version": "3.7.3"
  }
 },
 "nbformat": 4,
 "nbformat_minor": 1
}
