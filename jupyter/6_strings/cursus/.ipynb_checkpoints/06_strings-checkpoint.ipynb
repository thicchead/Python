{
 "cells": [
  {
   "cell_type": "markdown",
   "metadata": {},
   "source": [
    "# Hoofdstuk 6: Strings\n",
    "\n",
    "In dit hoofdstuk leer je hoe je met tekstuele informatie omgaat en hoe je teksten kunt manipuleren.\n",
    "In programmeeromgevingen worden teksten weergegeven door strings. Dit hoofdstuk\n",
    "geeft details over strings en over functies die beschikbaar zijn om strings aan te pakken."
   ]
  },
  {
   "cell_type": "markdown",
   "metadata": {},
   "source": [
    "## 6.1 Introductie\n",
    "\n",
    "We hebben strings reeds kort geïntroduceerd. Een string is een tekst, omsloten door enkele of dubbele aanhalingstekens. Een string mag een willekeurige lengte\n",
    " hebben, inclusief nul tekens lang. Twee strings kan je aan\n",
    "elkaar kunt plakken, concateneren, met behulp van de +, en je kan een string herhalen door middel van de *. Bijvoorbeeld:"
   ]
  },
  {
   "cell_type": "code",
   "execution_count": null,
   "metadata": {},
   "outputs": [],
   "source": [
    "def main():\n",
    "    s1 = \"appel\"\n",
    "    s2 = ' banaan '\n",
    "    print(s1)\n",
    "    print(s2)\n",
    "    print(s1 + s2)\n",
    "    print(3 * s1)\n",
    "    print(s2 * 3)\n",
    "    print(2 * s1 + 2 * s2)\n",
    "\n",
    "if __name__== \"__main__\":\n",
    "    main()"
   ]
  },
  {
   "cell_type": "markdown",
   "metadata": {},
   "source": [
    "### 6.1.1 len()\n",
    "\n",
    "**len()** is een basisfunctie die één parameter krijgt en die de lengte van die parameter\n",
    "teruggeeft. Je kan bijvoorbeeld een string variabele als parameter aan de functie **len()**\n",
    "geven, en het resultaat van de functie is dan de lengte van de string.\n",
    "\n",
    "**Opgave 6.1** Wat print de code hieronder? Controleer of je vermoeden klopt."
   ]
  },
  {
   "cell_type": "code",
   "execution_count": null,
   "metadata": {},
   "outputs": [],
   "source": [
    "def main():\n",
    "    print(len('man'))\n",
    "    print(len('mango'))\n",
    "    print(len(\"\")) # \"\" is een lege string\n",
    "\n",
    "if __name__== \"__main__\":\n",
    "    main()"
   ]
  },
  {
   "cell_type": "markdown",
   "metadata": {},
   "source": [
    "**Opgave 6.2** En wat denk je van de code hieronder? Denk goed na voor je een antwoord\n",
    "geeft."
   ]
  },
  {
   "cell_type": "code",
   "execution_count": null,
   "metadata": {},
   "outputs": [],
   "source": [
    "def main():\n",
    "    print(len('mango\\'s'))\n",
    "    print(len('mango is lekker'))\n",
    "\n",
    "if __name__== \"__main__\":\n",
    "    main()"
   ]
  },
  {
   "cell_type": "markdown",
   "metadata": {},
   "source": [
    "### 6.1.2 format()\n",
    "\n",
    "De **format()** methode (laten we de correcte benaming gebruiken, het is geen functie\n",
    "maar een methode) wordt als volgt aangeroepen: \n",
    "```\n",
    "<string>.format()\n",
    "```\n",
    "Het resultaat is een nieuwe string, die een geformatteerde versie is van de string waarvoor de methode\n",
    "is aangeroepen. **format()** kan een willekeurig aantal parameters meekrijgen, die in de\n",
    "geformatteerde string ingebracht kunnen worden op specifieke plaatsen.\n",
    "De plaatsen waar **format()** de parameter waardes in de string plaatst worden in de string\n",
    "aangegeven middels accolades ({ en }). Als je alleen {} gebruikt om de parameters aan te\n",
    "duiden, worden ze van links naar rechts afgehandeld. \n",
    "\n",
    "Bijvoorbeeld:"
   ]
  },
  {
   "cell_type": "code",
   "execution_count": null,
   "metadata": {},
   "outputs": [],
   "source": [
    "print(\"De eerste drie getallen zijn {}, {} en {}.\".format(\"een\", \"twee\", \"drie\"))"
   ]
  },
  {
   "cell_type": "markdown",
   "metadata": {},
   "source": [
    "Als je ze in een andere volgorde wilt afhandelen, kun je de volgorde bepalen door een getal\n",
    "tussen de acolades te zetten. De eerste parameter is nummer 0, de tweede nummer 1, de\n",
    "derde nummer 2, etcetera (als je het vreemd vindt om nummering te beginnen bij nul, weet\n",
    "dan dat dat gebruikelijk is in programmeertalen, en dat je het nog vaker zult tegenkomen\n",
    "in dit boek). Bijvoorbeeld:"
   ]
  },
  {
   "cell_type": "code",
   "execution_count": null,
   "metadata": {},
   "outputs": [],
   "source": [
    "print(\"Achterwaarts zijn ze {2}, {1} en {0}.\".format(\"een\", \"twee\", \"drie\"))"
   ]
  },
  {
   "cell_type": "markdown",
   "metadata": {},
   "source": [
    "**format()** kan variabelen van ieder type verwerken, zolang ze maar een fatsoenlijke string\n",
    "representatie hebben. Bijvoorbeeld, **format()** kan getallen verwerken en zelfs verschillende\n",
    "soorten data types mixen:"
   ]
  },
  {
   "cell_type": "code",
   "execution_count": null,
   "metadata": {},
   "outputs": [],
   "source": [
    "print(\"De eerste drie getallen zijn {}, {} en {}.\".format(1, \"twee\", 3.0))"
   ]
  },
  {
   "cell_type": "markdown",
   "metadata": {},
   "source": [
    "Als je de parameters op een specifieke manier wil formatteren, zijn daar mogelijkheden\n",
    "voor, als je een dubbele-punt (:) tussen de accolades zet, na het volgorde-nummer als je\n",
    "dat gebruikt, met rechts van de dubbelpunt formatteringsinstructies. \n",
    "\n",
    "Eerst enkele instructies voor string parameters. Als je een bepaalde hoeveelheid tekens\n",
    "wilt reserveren voor een string, dan kun je dat aangeven met een integer rechts van de\n",
    "dubbele-punt. Dit wordt de “precisie” genoemd. De volgende code gebruikt een precisie\n",
    "van 7."
   ]
  },
  {
   "cell_type": "code",
   "execution_count": null,
   "metadata": {},
   "outputs": [],
   "source": [
    "print(\"De eerste drie getallen zijn {:7}, {:7} en {:7}.\".format(\"een\", \"twee\", \"drie\"))"
   ]
  },
  {
   "cell_type": "markdown",
   "metadata": {},
   "source": [
    "Als de precisie te kort is voor de lengte van de string, neemt format() gewoon meer ruimte\n",
    "voor de string. Je kunt de precisie dus niet gebruiken om een string voortijdig af te breken."
   ]
  },
  {
   "cell_type": "code",
   "execution_count": null,
   "metadata": {},
   "outputs": [],
   "source": [
    "print(\"De eerste drie getallen zijn {:2}, {:2} en {:2}.\".format(\"een\", \"twee\", \"drie\"))"
   ]
  },
  {
   "cell_type": "markdown",
   "metadata": {},
   "source": [
    "Als je precisie gebruikt, kun je de parameter links uitlijnen, centreren of rechts uitlijnen\n",
    "in de ruimte die je hebt gereserveerd. Dat doe je door een “alignment” teken te plaatsen\n",
    "tussen de dubbele punt en de precisie. Deze “alignment” tekens zijn < voor links uitlijnen,\n",
    "^ voor centreren en > voor rechts uitlijnen."
   ]
  },
  {
   "cell_type": "code",
   "execution_count": null,
   "metadata": {},
   "outputs": [],
   "source": [
    "print(\"De eerste drie getallen zijn {:<7}, {:^7} en {:>7}.\".format(\"een\", \"twee\", \"drie\"))"
   ]
  },
  {
   "cell_type": "markdown",
   "metadata": {},
   "source": [
    "We gaan nu verder met formatteringsinstructies voor getallen. Als je een getal wilt laten interpreteren\n",
    "als een integer, moet je de kleine letter “d” plaatsen rechts van de dubbele punt\n",
    "(“d” staat hierbij voor “decimaal”). Wil je dat het getal wordt geïnterpreteerd als een float,\n",
    "dan moet je een “f” plaatsen rechts van de dubbele-punt. **format()** maakt de juiste conversie\n",
    "voor je als dat kan. Je kunt echter niet van een float een integer maken, want dat\n",
    "veroorzaakt een runtime error."
   ]
  },
  {
   "cell_type": "code",
   "execution_count": null,
   "metadata": {},
   "outputs": [],
   "source": [
    "def main():\n",
    "    print(\"{} gedeeld door {} is {}\".format(1, 2, 1 / 2))\n",
    "    print(\"{:d} gedeeld door {:d} is {:f}\".format(1, 2, 1 / 2))\n",
    "    print(\"{:f} gedeeld door {:f} is {:f}\".format(1, 2, 1 / 2))\n",
    "\n",
    "if __name__== \"__main__\":\n",
    "    main()"
   ]
  },
  {
   "cell_type": "markdown",
   "metadata": {},
   "source": [
    "Net als bij strings, kun je voor getallen precisie en uitlijning gebruiken. Dit doe je op\n",
    "dezelfde manier. En net als bij strings geldt dat als de precisie niet voldoende groot is, de\n",
    "functie gewoon de ruimte neemt die nodig is. Let erop dat een eventueel min-teken en een\n",
    "eventuele punt in een float ook plaats nodig hebben.\n",
    "Tenslotte, en misschien het meest nuttig, kun je aangeven met hoeveel decimalen een float\n",
    "getoond moet worden, door een punt en een getal te plaatsen links van de letter “f.” De\n",
    "**format()** methode zal het getal afronden tot het juiste aantal decimalen. Merk op dat je\n",
    "ook mag aangeven dat je nul decimalen wilt zien door .0 te gebruiken, wat ervoor zal\n",
    "zorgen dat een float wordt getoond als een integer."
   ]
  },
  {
   "cell_type": "code",
   "execution_count": null,
   "metadata": {},
   "outputs": [],
   "source": [
    "def main():\n",
    "    s = \"{:>5d} keer {:>5.2f} is {:>5.2f}\"\n",
    "    print(s.format(1, 3.75, 1 * 3.75))\n",
    "    print(s.format(2, 3.75, 2 * 3.75))\n",
    "    print(s.format(3, 3.75, 3 * 3.75))\n",
    "    print(s.format(4, 3.75, 4 * 3.75))\n",
    "    print(s.format(5, 3.75, 5 * 3.75))\n",
    "\n",
    "if __name__== \"__main__\":\n",
    "    main()"
   ]
  },
  {
   "cell_type": "markdown",
   "metadata": {},
   "source": [
    "### 6.1.3 for loop\n",
    "\n",
    "Met een **for** loop kunnen alle tekens in een string doorlopen worden."
   ]
  },
  {
   "cell_type": "code",
   "execution_count": null,
   "metadata": {},
   "outputs": [],
   "source": [
    "def main():\n",
    "    s1 = \"mango\"\n",
    "    s2 = \"banaan\"\n",
    "    for letter in s1:\n",
    "        if letter in s2:\n",
    "            print(s1, \"en\", s2, \"bevatten beide de letter\", letter)\n",
    "        \n",
    "if __name__== \"__main__\":\n",
    "    main()"
   ]
  },
  {
   "cell_type": "markdown",
   "metadata": {},
   "source": [
    "## 6.2 Strings over meerdere regels\n",
    "\n",
    "In Python kunnen strings meerdere regels beslaan. Dat kan nuttig zijn wanneer je een\n",
    "erg lange string in je programma hebt of als je de output van de string op een specifieke\n",
    "manier wilt formatteren. Dit kan op twee manieren bereikt worden:\n",
    "+ Met enkele of dubbele aanhalingstekens en een indicatie dat de string doorloopt op\n",
    "de volgende regel door een backslash aan het einde van de regel te zetten.\n",
    "+ Met drievoudige enkele of dubbele aanhalingstekens.\n",
    "\n",
    "Eerst tonen we hoe het werkt met enkele of dubbele aanhalingstekens om de string:"
   ]
  },
  {
   "cell_type": "code",
   "execution_count": null,
   "metadata": {},
   "outputs": [],
   "source": [
    "def main():\n",
    "    langestring = \"De drie musketiers zijn Aramis, Athos en Porthos. Hoewel ze bekend staan als \\\n",
    "de drie musketiers spelen hun avonturen zich af met vier personen. De vierde musketier is \\\n",
    "waarschijnlijk zelfs de bekendste: D'Artagnan. Hun beroemde motto was: \\\"Eén voor allen, allen \\\n",
    "voor één!\\\" De belangrijkste verhaallijn is het complot van de op macht beluste kardinaal \\\n",
    "Richelieu die gebruik wil maken van de onervarenheid van de jonge koning Lodewijk XIII. \\\n",
    "Door de koning en zijn vrouw in diskrediet te brengen hoopt hij de koning tot aftreden te \\\n",
    "dwingen waarop hij zelf het leger kan aanvoeren om de hugenoten aan te vallen en de oorlog \\\n",
    "te verklaren aan Engeland.\"\n",
    "    print(langestring)\n",
    "\n",
    "if __name__== \"__main__\":\n",
    "    main()"
   ]
  },
  {
   "cell_type": "markdown",
   "metadata": {},
   "source": [
    "Als je deze code uitvoert, zie je dat Python de string als een geheel interpreteert. De backslash\n",
    "(`\\`) die aangeeft dat de string verder gaat op de volgende regel is algemener bruikbaar\n",
    "dan alleen voor strings: je kunt hem achter ieder Python statement zetten om aan te geven\n",
    "dat het statement verder gaat op de volgende regel. Dat kan nuttig zijn bij bijvoorbeeld\n",
    "lange berekeningen.\n",
    "\n",
    "De aanbevolen manier om strings over meerdere regels te spreiden in Python is echter het\n",
    "gebruik van drievoudige aanhalingstekens. We hebben reeds eerder gezien dat\n",
    "je die gebruikt om lange commentaar in de code op te nemen, maar feitelijk komt het erop\n",
    "neer dat je dan een lange string midden in je programma zet. Zo’n string doet niks, tenzij\n",
    "je hem aan een variabele toekent. Hier is een voorbeeld van een string met drievoudige\n",
    "dubbele aanhalingstekens:"
   ]
  },
  {
   "cell_type": "code",
   "execution_count": null,
   "metadata": {},
   "outputs": [],
   "source": [
    "def main():\n",
    "    langestring = \"\"\"De drie musketiers zijn Aramis, Athos en Porthos. Hoewel ze bekend staan als\n",
    "de drie musketiers spelen hun avonturen zich af met vier personen. De vierde musketier is\n",
    "waarschijnlijk zelfs de bekendste: D'Artagnan. Hun beroemde motto was: \\\"Eén voor allen, allen\n",
    "voor één!\\\" De belangrijkste verhaallijn is het complot van de op macht beluste kardinaal    \n",
    "Richelieu die gebruik wil maken van de onervarenheid van de jonge koning Lodewijk XIII.\n",
    "Door de koning en zijn vrouw in diskrediet te brengen hoopt hij de koning tot aftreden te\n",
    "dwingen waarop hij zelf het leger kan aanvoeren om de hugenoten aan te vallen en de oorlog\n",
    "te verklaren aan Engeland.\"\"\"\n",
    "    print(langestring)\n",
    "\n",
    "if __name__== \"__main__\":\n",
    "    main()"
   ]
  },
  {
   "cell_type": "markdown",
   "metadata": {},
   "source": [
    "Het opvallende verschil tussen deze twee voorbeelden is dat in het eerste voorbeeld de\n",
    "string beschouwd werd als een lange, doorlopende serie tekens, terwijl in het tweede voorbeeld\n",
    "de verschillende regels op meerdere regels geprint wordt. De reden dat dat gebeurt\n",
    "in het tweede voorbeeld is dat er een onzichtbaar teken staat aan het einde van iedere regel,\n",
    "dat aangeeft dat Python naar een nieuwe regel moet gaan voordat verder geprint wordt.\n",
    "Dit is een zogeheten “newline” teken en je kunt het expliciet in een string opnemen, door\n",
    "gebruik te maken van de code \"\\n\". Deze code moet je niet lezen als twee tekens, de backslash\n",
    "en de \"n\", maar als een enkel “newline” teken. Je kunt met dit teken ervoor zorgen\n",
    "dat de output over meerdere regels geprint wordt. Dat kan zelfs als je de backslash aan het\n",
    "einde van een regel zet om aan te geven dat de string over meerdere regels verspreid is, als\n",
    "in het eerste voorbeeld. Bijvoorbeeld:"
   ]
  },
  {
   "cell_type": "code",
   "execution_count": null,
   "metadata": {},
   "outputs": [],
   "source": [
    "def main():\n",
    "    shakespeare = \"ROMEO\\n\\\n",
    "She speaks.\\n\\\n",
    "O, speak again, bright angel! For thou art\\n\\\n",
    "As glorious to this night, being o'er my head,\\n\\\n",
    "As is a winged messenger of heaven\\n\\\n",
    "Unto the white, upturned, wondering eyes\\n\\\n",
    "Of mortals that fall back to gaze on him\\n\\\n",
    "When he bestrides the lazy-puffing clouds\\n\\\n",
    "And sails upon the bosom of the air.\\n\\\n",
    "JULIET\\n\\\n",
    "O Romeo, Romeo! Wherefore art thou Romeo?\\n\\\n",
    "Deny thy father and refuse thy name.\\n\\\n",
    "Or, if thou wilt not, be but sworn my love,\\n\\\n",
    "And I’ll no longer be a Capulet.\"\n",
    "    print(shakespeare)\n",
    "\n",
    "if __name__== \"__main__\":\n",
    "    main()"
   ]
  },
  {
   "cell_type": "markdown",
   "metadata": {},
   "source": [
    "## 6.3 Tekens in een string\n",
    "\n",
    "Je weet al dat een string een verzameling is van tekens in een specifieke\n",
    "volgorde. Je kunt de individuele tekens van een string door middel van indices benaderen.\n",
    "\n",
    "### 6.3.1 String indices\n",
    "\n",
    "Ieder teken in een string heeft een positie, en die positie kun je weergeven door de index. \n",
    "De indices beginnen bij 0 en lopen op tot aan de lengte van de\n",
    "string. Hieronder zie je het woord “python” op de eerste regel, met op de tweede en derde\n",
    "regel indices voor ieder teken in deze string:\n",
    "<table>\n",
    "    <tr><td>p</td><td>y</td><td>t</td><td>h</td><td>o</td><td>n</td></tr>\n",
    "    <tr><td>0</td><td>1</td><td>2</td><td>3</td><td>4</td><td>5</td></tr>\n",
    "    <tr><td>-6</td><td>-5</td><td>-4</td><td>-3</td><td>-2</td><td>-1</td></tr>\n",
    "</table>\n",
    "    \n",
    "Zoals je kunt zien, kun je positieve indices gebruiken die beginnen met 0 bij de eerste letter\n",
    "van de string en die oplopen tot het einde van de string. Je kunt ook negatieve indices\n",
    "gebruiken, die starten met -1 bij de laatste letter van de string en die aflopen totdat de\n",
    "eerste letter van de string bereikt is.\n",
    "De lengte van een string `s` kun je berekenen met `len(s)`; de laatste letter van de string\n",
    "heeft dus index `len(s)-1`. Met negatieve indices heeft de eerste letter van de string de\n",
    "index `-len(s)`.\n",
    "\n",
    "Als een string is opgeslagen in een variabele, dan kun je de individuele letters van de string\n",
    "benaderen via de variabele naam en de index van de gevraagde letter tussen vierkante\n",
    "haken ([ ]) rechts ernaast.\n",
    "\n"
   ]
  },
  {
   "cell_type": "code",
   "execution_count": null,
   "metadata": {},
   "outputs": [],
   "source": [
    "def main():\n",
    "    fruit = \"aardbei\"\n",
    "    print(fruit[4])\n",
    "    print(fruit[2])\n",
    "    print(fruit[1])\n",
    "    print(fruit[-4])\n",
    "    print(fruit[-2])\n",
    "    print(fruit[-5])\n",
    "    print(fruit[-1])\n",
    "    print(fruit[5])\n",
    "\n",
    "if __name__== \"__main__\":\n",
    "    main()"
   ]
  },
  {
   "cell_type": "markdown",
   "metadata": {},
   "source": [
    "Je mag ook variabelen als indices gebruiken, en zelfs berekeningen of functie-aanroepen.\n",
    "Je moet er echter altijd voor zorgen dat berekeningen leiden tot integers, want floats kunnen\n",
    "niet als indices gebruikt worden. Hieronder staan een paar voorbeelden, waarvan de\n",
    "meesten zo ingewikkeld zijn dat er eigenlijk geen reden is om ze op deze manier in een programma\n",
    "te zetten. Maar ze laten wel zien wat de mogelijkheden zijn."
   ]
  },
  {
   "cell_type": "code",
   "execution_count": null,
   "metadata": {},
   "outputs": [],
   "source": [
    "def main():\n",
    "    fruit = \"aalbes\"\n",
    "    x = 3\n",
    "    print(fruit[3 - 2])\n",
    "    print(fruit[int(7 / 2)])\n",
    "    print(fruit[2 ** 2] )\n",
    "    print(fruit[int((x - len(fruit)) / 3)])\n",
    "    print(fruit[-len(fruit)])\n",
    "    print(fruit[-x])\n",
    "\n",
    "if __name__== \"__main__\":\n",
    "    main()"
   ]
  },
  {
   "cell_type": "markdown",
   "metadata": {},
   "source": [
    "In principe mag je een index ook gebruiken bij een string die niet in een variabele staat,\n",
    "bijvoorbeeld, `\"aalbes\"[3]` is de letter \"b\". Het mag duidelijk zijn dat niemand dat ooit\n",
    "doet.\n",
    "\n",
    "Naast enkele indices om letters in een string te benaderen, kun je ook substrings van een\n",
    "string benaderen door twee getallen tussen vierkante haken te zetten met een dubbele punt\n",
    "(:) ertussen. De eerste van deze getallen is de index waar de substring start, de tweede waar\n",
    "de substring eindigt. De substring is exclusief de letter die hoort bij de tweede index. Door\n",
    "het linkergetal weg te laten geef je aan dat de substring begint bij de start van de string\n",
    "(dus bij index 0). Door het rechtergetal weg te laten geef je aan dat de substring eindigt\n",
    "met het laatste teken van de string (inclusief dit laatste teken).\n",
    "Als je probeert een teken van een string te benaderen met een index die buiten de string\n",
    "valt, krijg je een runtime error (“index out of bounds”). Als je een substring probeert te\n",
    "benaderen geldt die beperking niet; het is toegestaan om getallen te gebruiken die buiten\n",
    "het bereik van de string vallen."
   ]
  },
  {
   "cell_type": "code",
   "execution_count": null,
   "metadata": {},
   "outputs": [],
   "source": [
    "def main():\n",
    "    fruit = \"aalbes\"\n",
    "    print(fruit[:])\n",
    "    print(fruit[0:])\n",
    "    print(fruit[:6])\n",
    "    print(fruit[:100])\n",
    "    print(fruit[:len(fruit)])\n",
    "    print(fruit[1:-1])\n",
    "    print(fruit[2], fruit[1:6])\n",
    "\n",
    "if __name__== \"__main__\":\n",
    "    main()"
   ]
  },
  {
   "cell_type": "markdown",
   "metadata": {},
   "source": [
    "### 6.3.2 Strings doorlopen\n",
    "\n",
    "Je hebt reeds in hoofdstuk 4 gezien hoe je de tekens van een string kunt doorlopen door een **for**\n",
    "loop te gebruiken:"
   ]
  },
  {
   "cell_type": "code",
   "execution_count": null,
   "metadata": {},
   "outputs": [],
   "source": [
    "def main():\n",
    "    fruit = 'appel'\n",
    "    for teken in fruit:\n",
    "        print(teken, '- ', end='')\n",
    "    \n",
    "if __name__== \"__main__\":\n",
    "    main()"
   ]
  },
  {
   "cell_type": "markdown",
   "metadata": {},
   "source": [
    "Nu je indices begrijpt, realiseer je je waarschijnlijk wel dat je die ook kunt gebruiken om\n",
    "een string te doorlopen:"
   ]
  },
  {
   "cell_type": "code",
   "execution_count": null,
   "metadata": {},
   "outputs": [],
   "source": [
    "def main():\n",
    "    fruit = 'appel'\n",
    "    for i in range(0, len(fruit)):\n",
    "        print(fruit[i], \"-\", end=\"\")\n",
    "    print()\n",
    "    i = 0\n",
    "    while i < len(fruit):\n",
    "        print(fruit[i], \" - \", end=\"\")\n",
    "        i += 1\n",
    "    \n",
    "if __name__== \"__main__\":\n",
    "    main()"
   ]
  },
  {
   "cell_type": "markdown",
   "metadata": {},
   "source": [
    "Als je voldoende hebt aan toegang krijgen tot de individuele tekens in de string, is de eerste\n",
    "methode, waarbij de constructie `for <teken> in <string>` wordt gebruikt, verreweg het\n",
    "meest elegant en leesbaar. Maar soms moet je een probleem oplossen waarbij een andere\n",
    "methode nodig is.\n",
    "\n",
    "**Opgave 6.3** Schrijf een programma dat van een string de indices print van alle klinkers (a,\n",
    "e, i, o, en u).\n",
    "\n",
    "**Opgave 6.4** Schrijf een programma waarbij je twee string-variabelen aanmaakt en voor ieder teken in de eerste\n",
    "string dat in de tweede string precies hetzelfde teken heeft op precies dezelfde index,\n",
    "druk je het teken en de index af.\n",
    "\n",
    "**Opgave 6.5** Schrijf een functie die een string als argument krijgt, en die dan een nieuwe\n",
    "string retourneert die hetzelfde is als het argument, maar waarbij ieder teken dat geen\n",
    "letter is vervangen is door een spatie (bijvoorbeeld, de uitdrukking \"ph@t l00t\" wordt\n",
    "gewijzigd in \"ph t l t\").\n",
    "\n",
    "### 6.3.3 Substrings met stappen\n",
    "\n",
    "Substrings kunnen behalve een index voor begin en einde een derde argument krijgen,\n",
    "namelijk stapgrootte. Dit argument werkt equivalent aan het derde argument voor de\n",
    "**range()** functie. De syntax voor substrings is `<string>[<begin>:<einde>:<stap>]`. Indien\n",
    "niet opgegeven, is de stapgrootte 1.\n",
    "\n",
    "Een veelgebruikte toepassing van de stapgrootte is het gebruik van een negatieve waarde\n",
    "om de string te inverteren."
   ]
  },
  {
   "cell_type": "code",
   "execution_count": null,
   "metadata": {},
   "outputs": [],
   "source": [
    "def main():\n",
    "    fruit = \"banaan\"\n",
    "    print(fruit[::2])\n",
    "    print(fruit[1::2])\n",
    "    print(fruit[::-1])\n",
    "    print(fruit[::-2])\n",
    "\n",
    "if __name__== \"__main__\":\n",
    "    main()"
   ]
  },
  {
   "cell_type": "markdown",
   "metadata": {},
   "source": [
    "Het inverteren van een string via `[::-1]` is conceptueel gelijk aan het doorlopen van de\n",
    "string vanaf het laatste teken tot het eerst met achterwaartse stappen van grootte 1."
   ]
  },
  {
   "cell_type": "code",
   "execution_count": null,
   "metadata": {},
   "outputs": [],
   "source": [
    "def main():\n",
    "    fruit = \"banaan\"\n",
    "    print(fruit[::-1])\n",
    "    for i in range(5, -1, -1):\n",
    "        print(fruit[i])\n",
    "    \n",
    "if __name__== \"__main__\":\n",
    "    main()"
   ]
  },
  {
   "cell_type": "markdown",
   "metadata": {},
   "source": [
    "## 6.4 Strings zijn onveranderbaar\n",
    "\n",
    "Een kerneigenschap van strings is dat ze onveranderbaar (Engels: “immutable”) zijn. Dit\n",
    "betekent dat strings niet kunnen wijzigen. Bijvoorbeeld, je kunt niet een teken in een string\n",
    "wijzigen door er een nieuwe waarde aan toe te kennen. Ter demonstratie: de volgende\n",
    "code leidt tot een runtime error als je hem probeert uit te voeren:"
   ]
  },
  {
   "cell_type": "code",
   "execution_count": null,
   "metadata": {},
   "outputs": [],
   "source": [
    "def main():\n",
    "    fruit = \"aaldbei\"\n",
    "    fruit[2] = \"r\" # Runtime error!\n",
    "    print(fruit)\n",
    "\n",
    "if __name__== \"__main__\":\n",
    "    main()"
   ]
  },
  {
   "cell_type": "markdown",
   "metadata": {},
   "source": [
    "Als je een wijziging wilt maken in een string, moet je een nieuwe string maken die de\n",
    "wijziging omvat; je kunt daarna de nieuwe string toekennen aan de bestaande variabele\n",
    "als je wilt. Bijvoorbeeld:"
   ]
  },
  {
   "cell_type": "code",
   "execution_count": null,
   "metadata": {},
   "outputs": [],
   "source": [
    "def main():\n",
    "    fruit = \"aaldbei\"\n",
    "    fruit = fruit[:2] + \"r\" + fruit[3:]\n",
    "    print(fruit)\n",
    "\n",
    "if __name__== \"__main__\":\n",
    "    main()"
   ]
  },
  {
   "cell_type": "markdown",
   "metadata": {},
   "source": [
    "De reden waarom strings onveranderbaar zijn, is te technisch om hier te bespreken. Onthoud\n",
    "alleen dat als je een string wilt wijzigen, je geen nieuwe waarde kunt toekennen aan\n",
    "een individueel teken uit de string. In plaats daarvan moet je de variabele die de string\n",
    "bevat geheel overschrijven."
   ]
  },
  {
   "cell_type": "markdown",
   "metadata": {},
   "source": [
    "## 6.5 string methodes\n",
    "\n",
    "Er is een aantal methodes beschikbaar die ontworpen zijn om strings te bewerken. Al deze\n",
    "methodes worden toegepast op een string om een operatie uit te voeren. Omdat strings\n",
    "onveranderbaar zijn, zullen deze methodes nooit de string waarop ze werken wijzigen,\n",
    "maar ze retourneren in plaats daarvan een gewijzigde versie van de string.\n",
    "Net als de **format()** methode worden al de string methodes\n",
    "aangeroepen via de syntax `<string>.<methode>()`, met andere woorden, je specificeert\n",
    "de string waarop de methode moet werken, gevolgd door een punt, gevolgd door\n",
    "de methode.\n",
    "\n",
    "### 6.5.1 strip()\n",
    "\n",
    "**strip()** verwijdert spaties aan het begin en einde van een string, inclusief eventuele “newline”\n",
    "tekens en andere tekens die als spaties gezien kunnen worden. Als je iets anders dan\n",
    "spaties wilt verwijderen, kun je als parameter een string meegeven die bestaat uit alle te\n",
    "verwijderen tekens."
   ]
  },
  {
   "cell_type": "code",
   "execution_count": null,
   "metadata": {},
   "outputs": [],
   "source": [
    "def main():\n",
    "    s = \" En nu iets heel anders \\n \"\n",
    "    print(\"[\" + s + \"]\")\n",
    "    s = s.strip()\n",
    "    print(\"[\" + s + \"]\")\n",
    "\n",
    "if __name__== \"__main__\":\n",
    "    main()"
   ]
  },
  {
   "cell_type": "markdown",
   "metadata": {},
   "source": [
    "### 6.5.2 upper() en lower()\n",
    "\n",
    "**upper()** creëert een versie van een string met alle letters als hoofdletters. **lower()** werkt\n",
    "op dezelfde manier, maar maakt van alle letters kleine letters. Geen van beide methodes\n",
    "heeft parameters."
   ]
  },
  {
   "cell_type": "code",
   "execution_count": null,
   "metadata": {},
   "outputs": [],
   "source": [
    "def main():\n",
    "    s = \"The Meaning of Life\"\n",
    "    print(s)\n",
    "    print(s.upper())\n",
    "    print(s.lower())\n",
    "\n",
    "if __name__== \"__main__\":\n",
    "    main()"
   ]
  },
  {
   "cell_type": "markdown",
   "metadata": {},
   "source": [
    "### 6.5.3 find()\n",
    "\n",
    "**find()** kun je gebruiken om in een string te zoeken naar de start-index van een bepaalde\n",
    "substring. Als parameter krijgt de methode de gezochte substring. Optioneel kan een\n",
    "tweede, numerieke parameter meegegeven worden die aangeeft bij welke index gestart\n",
    "moet worden met zoeken. Een optionele derde, numerieke parameter is de index waarbij\n",
    "het zoeken moet stoppen. Je krijgt de laagste index waarbij de substring gevonden wordt\n",
    "terug, of -1 als de substring niet voorkomt."
   ]
  },
  {
   "cell_type": "code",
   "execution_count": null,
   "metadata": {},
   "outputs": [],
   "source": [
    "def main():\n",
    "    s = \"Humpty Dumpty zat op de muur\"\n",
    "    print(s.find(\"zat\"))\n",
    "    print(s.find(\"t\"))\n",
    "    print(s.find(\"t\", 12))\n",
    "    print(s.find(\"q\"))\n",
    "\n",
    "if __name__== \"__main__\":\n",
    "    main()"
   ]
  },
  {
   "cell_type": "markdown",
   "metadata": {},
   "source": [
    "### 6.5.4 replace()\n",
    "\n",
    "**replace()** vervangt alle instanties van een substring in een string door een andere substring.\n",
    "Als parameters krijgt het de substring die gezocht wordt, en de substring die als\n",
    "vervanging dient. Optioneel kan een derde, numerieke parameter meegegeven worden\n",
    "die aangeeft hoe vaak een vervanging moet plaatsvinden.\n",
    "\n",
    "We benadrukken nog even dat strings onveranderbaar zijn, dus de **replace()** functie\n",
    "doet geen vervangingen in de string; hij geeft een nieuwe string terug die een\n",
    "kopie is van de originele string, waarbij de vervangingen zijn uitgevoerd."
   ]
  },
  {
   "cell_type": "code",
   "execution_count": null,
   "metadata": {},
   "outputs": [],
   "source": [
    "def main():\n",
    "    s = 'Humpty Dumpty zat op de muur'\n",
    "    print(s.replace(' zat op ', ' viel van '))\n",
    "\n",
    "if __name__== \"__main__\":\n",
    "    main()"
   ]
  },
  {
   "cell_type": "markdown",
   "metadata": {},
   "source": [
    "### 6.5.5 split()\n",
    "\n",
    "**split()** splitst een string op in woorden, gebaseerd op een gegeven teken of substring die\n",
    "als separator beschouwd wordt. De separator is een parameter en als die niet is opgegeven,\n",
    "is de separator de spatie, wat inhoudt dat je een string inderdaad opsplitst in de afzonderlijke\n",
    "woorden (waarbij leestekens die aan woorden vastzitten beschouwd wordt als een\n",
    "onderdeel van de desbetreffende woorden). Als de separator meerdere keren naast elkaar\n",
    "staat, dan worden de extra separatoren genegeerd (dat wil zeggen dat met spaties als separator,\n",
    "het niet uitmaakt of er tussen twee woorden één spatie staat, of meerdere).\n",
    "Het resultaat van deze opsplitsing is een “lijst” van woorden. Zoals je reeds weet kun je de afzonderlijke\n",
    "woorden in de lijst benaderen met de constructie `for <woord> in <lijst>`."
   ]
  },
  {
   "cell_type": "code",
   "execution_count": null,
   "metadata": {},
   "outputs": [],
   "source": [
    "def main():\n",
    "    s = 'Humpty Dumpty zat op de muur'\n",
    "    lijst = s.split()\n",
    "    for woord in lijst:\n",
    "        print(woord)\n",
    "    \n",
    "if __name__== \"__main__\":\n",
    "    main()"
   ]
  },
  {
   "cell_type": "markdown",
   "metadata": {},
   "source": [
    "Je kan de **split()** methode ook gebruiken met een parameter. De parameter is dan om aan te geven welk karakter je wil gebruiken voor het opsplitsen van de string. Bijvoorbeeld, voor een tekst waarbij verschillende waardes gescheiden zijn door een komma kan je de **split()** methode als volgt gebruiken:"
   ]
  },
  {
   "cell_type": "code",
   "execution_count": null,
   "metadata": {},
   "outputs": [],
   "source": [
    "def main():\n",
    "    csv = \"2018,september,28,Data Processing,Hogeschool PXL\"\n",
    "    waardes = csv.split(',')\n",
    "    for waarde in waardes:\n",
    "        print( waarde )\n",
    "    \n",
    "if __name__== \"__main__\":\n",
    "    main()"
   ]
  },
  {
   "cell_type": "markdown",
   "metadata": {},
   "source": [
    "### 6.5.6 Oefening\n",
    "\n",
    "**Opgave 6.6** In de string \"Barbara had een bar, waar ze rabarbar verkocht, en die\n",
    "daarom de rabarbarbarbarabar werd genoemd.\" is het woord \"rabarber\" verkeerd\n",
    "gespeld. Gebruik **replace()** om alle voorkomende gevallen van deze fout te verbeteren.\n",
    "Het verwacht resultaat is dan \"Barbara had een bar, waar ze rabarber verkocht, en die\n",
    "daarom de rabarberbarbarabar werd genoemd.\"\n",
    "\n",
    "**Opgave 6.7** Neem de string \"Niemand verwacht de Spaanse Inquisitie!# In feite,\n",
    "zij die de Spaanse Inquisitie wel verwachten...\" en toon hem tot aan, maar niet\n",
    "inclusief, de hashtag (#). Gebruik **find()** om de index van de hashtag te bepalen.\n",
    "\n",
    "**Opgave 6.8** Schrijf een programma dat een “schone” versie van alle woorden in de string\n",
    "print. Alle tekens die geen letter zijn, worden niet beschouwd als deel van een woord,\n",
    "maar als separator. Alle letters moeten in kleine letters worden omgezet. Bijvoorbeeld, de\n",
    "string \"Ik heb zo'n honger.\" produceert vijf woorden, namelijk \"ik\", \"heb\", \"zo\", \"n\",\n",
    "en \"honger\". Je kunt de functie die je eerder hebt geschreven voor het schoonmaken van\n",
    "strings hier gebruiken (zie Opgave 6.5)."
   ]
  },
  {
   "cell_type": "markdown",
   "metadata": {},
   "source": [
    "## 6.6 De ASCII-tabel\n",
    "\n",
    "De ASCII-code (**A**merican **S**tandard **C**ode for **I**nformation **I**nterchange) is een gestandaardiseerde code, waarmee dus 128 ($=2^7$) tekens gevormd kunnen worden. Van deze 128 tekens zijn er 96 bestemd voor het weergeven van tekst (cijfers, letters en leestekens). Je vindt in de ASCII-tabel dus de meest gangbare **leestekens** en de **cijfers** terug. Binnen de ASCII-code is er onderscheid in de letters, eerst komen de **hoofdletters**, daarna de **kleine letters**. Verder vind je ook nog een aantal veel gebruikte **symbolen** terug.\n",
    "\n",
    "![alt text](./images/ASCII_dec.png \"ASCII Tabel (gedeeltelijk)\")\n",
    "\n",
    "Om in een Python programma te achterhalen wat het nummer is van een teken, kun je de **ord()**\n",
    "functie gebruiken. `ord(\"A\")`, bijvoorbeeld, geeft het nummer van \"A\", dat 65 is, zoals je kunt zien. \n",
    "De tegenhanger van\n",
    "**ord()** is de **chr()** functie. **chr()** krijgt een nummer als argument en geeft als resultaat het teken\n",
    "dat hoort bij dat nummer. Bijvoorbeeld, `chr(65)` is de letter \"A\"."
   ]
  },
  {
   "cell_type": "code",
   "execution_count": null,
   "metadata": {},
   "outputs": [],
   "source": [
    "def main():\n",
    "    print(ord('A'))\n",
    "    print(ord('a'))\n",
    "    print(chr(65))\n",
    "    print(chr(97))\n",
    "    print(\"mango\" > \"mangaan\")\n",
    "\n",
    "if __name__== \"__main__\":\n",
    "    main()"
   ]
  },
  {
   "cell_type": "markdown",
   "metadata": {},
   "source": [
    "Om een uitgebreider voorbeeld van wat je kunt doen met codes voor tekens te laten zien,\n",
    "is hier een programma dat (een gedeelte van) de ASCII tabel genereert:"
   ]
  },
  {
   "cell_type": "code",
   "execution_count": null,
   "metadata": {
    "scrolled": true
   },
   "outputs": [],
   "source": [
    "def main():\n",
    "    for j in range(16):\n",
    "        for i in range(2, 8):\n",
    "            c = i * 16 + j\n",
    "            print(\"{:>3} {:<3}\".format(c, chr(c)), end=\"\")\n",
    "        print()\n",
    "    \n",
    "if __name__== \"__main__\":\n",
    "    main()"
   ]
  }
 ],
 "metadata": {
  "kernelspec": {
   "display_name": "Python 3",
   "language": "python",
   "name": "python3"
  },
  "language_info": {
   "codemirror_mode": {
    "name": "ipython",
    "version": 3
   },
   "file_extension": ".py",
   "mimetype": "text/x-python",
   "name": "python",
   "nbconvert_exporter": "python",
   "pygments_lexer": "ipython3",
   "version": "3.8.8"
  }
 },
 "nbformat": 4,
 "nbformat_minor": 1
}
