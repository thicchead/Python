{
 "cells": [
  {
   "cell_type": "markdown",
   "metadata": {},
   "source": [
    "# Hoofdstuk 5: Functies\n",
    "\n",
    "In de voorgaande hoofdstukken gebruikten we reeds een aantal basis “functies,” zoals\n",
    "**print()** en **int()**. In dit hoofdstuk worden functies in meer detail besproken en leren we\n",
    "hoe je je eigen functies kunt maken.\n",
    "\n",
    "## 5.1 Elementen van een functie\n",
    "Een functie is een blok herbruikbare code die een bepaalde actie uitvoert. Om een functie\n",
    "aan het werk te zetten, roep je hem aan (Engels: “call”), met de parameters die de functie\n",
    "nodig heeft. Je hoeft niet te weten hoe de functie precies werkt. Je hoeft slechts drie dingen\n",
    "te weten:\n",
    "\n",
    "+ De naam van de functie\n",
    "+ De parameters die de functie nodig heeft (als die er zijn)\n",
    "+ De waarde die de functie teruggeeft (als er zo’n waarde is)\n",
    "\n",
    "\n",
    "### 5.1.1 Functie naam\n",
    "\n",
    "Iedere functie heeft een naam. Net als variabele namen, mogen functie namen alleen\n",
    "bestaan uit letters, cijfers, en underscores, en mogen ze niet starten met een cijfer. Vrijwel\n",
    "alle standaard Python functies bestaan alleen uit kleine letters. Gewoonlijk is de naam\n",
    "van een functie een korte beschrijving van wat de functie doet.\n",
    "\n",
    "### 5.1.2 Argumenten\n",
    "\n",
    "Sommige functies worden aangeroepen met argumenten, die meestal verplicht\n",
    "zijn. De argumenten worden geplaatst tussen de haakjes die achter de functienaam\n",
    "staan. Als er meerdere argumenten zijn, moet je er komma’s tussen zetten.\n",
    "De argumenten zijn de waardes die de programmeur aan de functie geeft om te verwerken.\n",
    "Bijvoorbeeld, de functie **int()** wordt aangeroepen met één argument, namelijk de waarde\n",
    "waarvan de functie probeert een integer representatie te maken. De **print()** functie mag\n",
    "worden aangeroepen met een willekeurig aantal argumenten (zelfs nul), die de functie op\n",
    "het scherm zal tonen, waarna de functie naar een nieuwe regel op het scherm zal gaan.\n",
    "Over het algemeen is het zo dat een functie de waardes van de argumenten niet kan wijzigen.\n",
    "Bekijk bijvoorbeeld de volgende code:"
   ]
  },
  {
   "cell_type": "code",
   "execution_count": null,
   "metadata": {},
   "outputs": [],
   "source": [
    "x = 1.56\n",
    "print(int(x))\n",
    "print(x)"
   ]
  },
  {
   "cell_type": "markdown",
   "metadata": {},
   "source": [
    "Als je deze code uitvoert, zie je dat **int()** niet de waarde van x heeft aangepast; de functie\n",
    "heeft alleen aan **print()** doorgegeven wat de integer representatie van de waarde van x\n",
    "is. De reden dat dit zo is, is dat over het algemeen alleen de waarde van argumenten wordt\n",
    "doorgegeven (Engels: “passed by value”). Dit betekent dat de functie geen toegang heeft\n",
    "tot de variabelen die als argument gebruikt worden, maar dat de functie kopieën krijgt\n",
    "van de waardes die in het argument staan. We zeggen hier “over het algemeen” omdat dit niet geldt\n",
    "voor alle data types, maar het geldt in ieder geval voor de data types die tot op dit moment\n",
    "gebruikt zijn. Pas later gebruiken we data types die wel door functies\n",
    "gewijzigd kunnen worden en op dat moment zullen we daar de nodige aandacht aan geven.\n",
    "\n",
    "Als je aan een functie meerdere argumenten geeft, maakt de volgorde uit. Bijvoorbeeld, de standaard\n",
    "functie **round()** kan je gebruiken met twee argumenten. De functie **round()** zorgt ervoor dat het\n",
    "eerste argument wiskundig wordt afgerond. Optioneel\n",
    "mag je als tweede argument een integer meegeven die aangeeft hoeveel cijfers\n",
    "achter de komma behouden moeten worden. Als het tweede argument niet wordt\n",
    "meegegeven, wordt afgerond op gehele getallen."
   ]
  },
  {
   "cell_type": "code",
   "execution_count": null,
   "metadata": {},
   "outputs": [],
   "source": [
    "getal = 2.3568\n",
    "aantal_decimalen = 3\n",
    "print(round(getal, aantal_decimalen))"
   ]
  },
  {
   "cell_type": "markdown",
   "metadata": {},
   "source": [
    "De namen die aan de variabelen zijn gegeven doen niet ter zake: het eerste argument wordt afgerond. \n",
    "Wanneer je de variabelen in een andere volgorde plaatst, krijg je dus een ander antwoord of zelfs een foutmelding."
   ]
  },
  {
   "cell_type": "code",
   "execution_count": null,
   "metadata": {},
   "outputs": [],
   "source": [
    "getal = 2.3568\n",
    "aantal_decimalen = 3\n",
    "print(round(aantal_decimalen, getal))"
   ]
  },
  {
   "cell_type": "markdown",
   "metadata": {},
   "source": [
    "Als je een functie dus aanroept met argumenten waarmee de functie niet\n",
    "kan werken? Bijvoorbeeld, als je **int()** aanroept met een string die geen\n",
    "integer bevat dan leidt dat meestal tot “runtime\n",
    "errors” (fouten tijdens de uitvoering van code)."
   ]
  },
  {
   "cell_type": "code",
   "execution_count": null,
   "metadata": {},
   "outputs": [],
   "source": [
    "y = int(\"twee-en-een-half\")"
   ]
  },
  {
   "cell_type": "markdown",
   "metadata": {},
   "source": [
    "### 5.1.3 Returnwaarde\n",
    "\n",
    "Een functie geeft vaak een waarde terug. Als een functie een waarde teruggeeft, kun je\n",
    "die in je code gebruiken. Bijvoorbeeld, de **int()** functie geeft een integer representatie\n",
    "van de parameter die is meegegeven. Je kunt deze returnwaarde in een variabele\n",
    "stoppen middels een assignment of je kunt de waarde op een andere manier gebruiken,\n",
    "bijvoorbeeld deze onmiddellijk printen. Je kunt er zelfs voor kiezen niks met de waarde te\n",
    "doen, maar in dat geval had het waarschijnlijk geen zin om de functie aan te roepen."
   ]
  },
  {
   "cell_type": "code",
   "execution_count": null,
   "metadata": {},
   "outputs": [],
   "source": [
    "x = 2.1\n",
    "y = '3'\n",
    "z = int(x)\n",
    "print(z)\n",
    "print(int(y))"
   ]
  },
  {
   "cell_type": "markdown",
   "metadata": {},
   "source": [
    "Zoals je hierboven kunt zien, kun je zelfs functie aanroepen als parameter meegeven aan\n",
    "een functie, bijvoorbeeld, in de laatste regel van de code hierboven krijgt de **print()** functie\n",
    "als waarde een aanroep van de **int()** functie mee. De aanroep van **int()** vindt dan\n",
    "plaats voordat de **print()** wordt afgehandeld, dus de returnwaarde van **int()** is een parameter\n",
    "voor **print()**.\n",
    "\n",
    "Niet alle functies geven een waarde terug. Bijvoorbeeld, **print()** geeft geen waarde terug."
   ]
  },
  {
   "cell_type": "markdown",
   "metadata": {},
   "source": [
    "## 5.2 Het nut van functies\n",
    "\n",
    "Waarom zou je zelf functies willen creëren? Er zijn een hoop goede redenen:\n",
    "+ Je hebt een bepaalde functionaliteit voor je code nodig die je onafhankelijk van de\n",
    "rest van je programma wilt ontwikkelen. Als je een dergelijke functionaliteit in een\n",
    "functie stopt, betekent dat dat je nadat de functie gebouwd en getest is, je de functionaliteit\n",
    "kunt gebruiken zonder er verder over na te denken.\n",
    "+ Er is een bepaalde functionaliteit die je op meerdere plaatsen in je programma nodig\n",
    "hebt, en je kunt beter die functionaliteit in een functie stoppen die op meerdere\n",
    "plekken aangeroepen wordt, dan dat je de code naar al die plaatsen kopieert.\n",
    "+ Je hebt een functionaliteit in je code nodig die je kunt aansturen middels parameters.\n",
    "Als je dergelijke functionaliteit in een functie stopt, worden de parameters duidelijker\n",
    "en wordt de code gemakkelijker te lezen en te onderhouden.\n",
    "+ Je programma is te lang om de inhoud goed te blijven overzien. Door de code op te\n",
    "splitsen in functies blijf je veel langer grip houden op de inhoud en werking.\n",
    "+ Je hebt een probleem dat je te lastig vindt om in één keer op te lossen. Je besluit het\n",
    "probleem op te splitsen in meerdere sub-problemen die je wel aankunt. Functies zijn\n",
    "een natuurlijke manier om een dergelijke aanpak vorm te geven.\n",
    "+ Een programma dat diep geneste condities of loops bevat, wordt veel leesbaarder als\n",
    "dieper geneste gedeeltes in een functie geplaatst worden.\n",
    "+ Het hergebruik van code wordt goed gefaciliteerd door delen van code in functies te\n",
    "plaatsen.\n",
    "\n",
    "Over het algemeen gesproken, kunnen de voordelen van functies worden samengevat als\n",
    "een middel om de volgende zaken te bewerkstelligen:\n",
    "\n",
    "+ **Encapsulatie**: Het “inpakken” van een nuttig stuk code op zo’n manier dat het gebruikt\n",
    "kan worden zonder kennis van de specifieke werking van de code\n",
    "+ **Generalisatie**: Het geschikt maken van een stuk code voor diverse situaties door gebruik\n",
    "te maken van parameters\n",
    "+ **Beheersbaarheid**: Het verdelen van een complex programma in \"gemakkelijk-te-bevatten\"\n",
    "delen\n",
    "+ **Onderhoudbaarheid**: Het gebruik maken van betekenisvolle functienamen en logische\n",
    "opdelingen om een programma beter leesbaar en begrijpbaar te maken\n",
    "+ **Herbruikbaarheid**: Het faciliteren van de overdraagbaarheid van code tussen programma’s\n",
    "\n",
    "## 5.3 Het creëren van functies\n",
    "\n",
    "In het begin van dit hoofstuk beschreven we hoe iedere functie een naam heeft, nul of meer parameters, en\n",
    "mogelijk een returnwaarde. Als je je eigen functies maakt, moet je al deze elementen\n",
    "definiëren. Je gebruikt de volgende syntax:\n",
    "\n",
    "```\n",
    "def <functie_naam>( <parameter_lijst> ):\n",
    "    <acties>\n",
    "```\n",
    "\n",
    "Functienamen moeten voldoen aan dezelfde eisen als variabele namen, dat wil zeggen,\n",
    "alleen letters, cijfers en underscores, en ze mogen niet beginnen met een cijfer. De parameter\n",
    "lijst bestaat uit nul of meer variabele namen, met komma’s ertussen. Het code\n",
    "onder de functie definitie moet inspringen.\n",
    "\n",
    "Let erop dat Python je functie definitie moet hebben “gezien” voordat je de functie kunt\n",
    "aanroepen. Het is daarom de gewoonte dat functie definities bovenaan in het programma geschreven worden.\n",
    "\n",
    "### 5.3.1 Hoe Python omgaat met functies\n",
    "\n",
    "Om functies te kunnen creëren, moet je begrijpen hoe Python met functies omgaat. Bekijk\n",
    "het kleine Python programma hieronder. Dit programma definieert één functie, die\n",
    "`tot_ziens()` heet. Deze functie heeft geen parameters. Het blok code behorende bij de\n",
    "functie heeft alleen een regel die de tekst “Tot ziens!” print.\n",
    "\n",
    "De rest van het programma is geen deel van de functie. Het deel van de code van een\n",
    "programma dat niet bij een functie hoort, noemt men meestal het “hoofdprogramma” (Engels:\n",
    "“main program”). Het hoofdprogramma print de regel “Hallo!,” en roept daarna de\n",
    "functie `tot_ziens()` aan."
   ]
  },
  {
   "cell_type": "code",
   "execution_count": null,
   "metadata": {},
   "outputs": [],
   "source": [
    "def tot_ziens():\n",
    "    print(\"Tot ziens!\")\n",
    "\n",
    "print(\"Hallo!\")\n",
    "tot_ziens()"
   ]
  },
  {
   "cell_type": "markdown",
   "metadata": {},
   "source": [
    "Als je dit programma uitvoert, zie je dat het eerst de regel “Hallo!” afdrukt, en daarna\n",
    "“Tot ziens!”. Dit gebeurt zo ondanks het feit dat Python de code van boven naar beneden\n",
    "uitvoert; Python komt `print(\"Tot ziens!\")` tegen voordat `print(\"Hallo!\")` wordt\n",
    "aangetroffen. De reden dat Python toch eerst de tekst “Hallo!” afdrukt is dat Python\n",
    "de code van een functie alleen uitvoert als de functie wordt aangeroepen. Een functie\n",
    "die Python tegenkomt voordat de functie wordt aangeroepen wordt alleen geregistreerd –\n",
    "Python onthoudt dat die functie bestaat, zodat hij kan worden uitgevoerd als het hoofdprogramma\n",
    "(of een andere functie) de functie aanroept.\n",
    "\n",
    "### 5.3.2 Parameters en argumenten\n",
    "\n",
    "Bekijk de code hieronder. De code definieert een functie `groet()` met één parameter, `naam`\n",
    "geheten. De functie gebruikt `naam` in het blok code. Er is geen expliciete assignment die\n",
    "naam een waarde geeft. `naam` bestaat als variabele `naam` omdat het een parameter is van de\n",
    "functie.\n",
    "\n",
    "Als een functie wordt aangeroepen, moet je een waarde geven aan iedere (verplichte) parameter\n",
    "die voor de functie gedefinieerd is. Zo’n waarde wordt een “argument” genoemd.\n",
    "Dus, om de functie `groet()` aan te roepen, moet een argument waarde voor de parameter\n",
    "`naam` gespecificeerd worden. Je plaatst een argument tussen de haakjes van de functie aanroep.\n",
    "Merk op dat het niet nodig is dat je in het hoofdprogramma weet dat de parameter\n",
    "`naam` wordt genoemd in de functie. Hoe hij heet is niet belangrijk. Het enige wat je moet\n",
    "weten is dat er een parameter is die een waarde nodig heeft, en liefst ook de beperkingen\n",
    "die de functie oplegt aan de waarde (bijvoorbeeld het type parameter dat de schrijver van\n",
    "de functie wilt dat je meegeeft).\n"
   ]
  },
  {
   "cell_type": "code",
   "execution_count": null,
   "metadata": {},
   "outputs": [],
   "source": [
    "def groet(naam):\n",
    "    print(\"Hallo, \" + naam + \"!\")   \n",
    "\n",
    "    \n",
    "groet(\"Groucho\")\n",
    "groet(\"Chico\")\n",
    "groet(\"Harpo\")\n",
    "groet(\"Zeppo\")"
   ]
  },
  {
   "cell_type": "markdown",
   "metadata": {},
   "source": [
    "Parameters van een functie zijn niet meer en niet minder dan variabelen die je kunt gebruiken\n",
    "in de functie en die hun (initiële) waarde krijgen van buiten de functie (namelijk\n",
    "via de functie aanroep). De parameters zijn “lokaal” voor de functie, dat wil zeggen, ze\n",
    "kunnen niet benaderd worden door code die niet in het blok code van de functie staat,\n",
    "noch kunnen ze waardes van variabelen buiten de functie beïnvloeden. Meer hierover\n",
    "volgt later in dit hoofdstuk.\n",
    "\n",
    "Functies kunnen meerdere parameters hebben. Bijvoorbeeld, de volgende functie krijgt\n",
    "twee parameters en vermenigvuldigt hun waardes, waarna het resultaat wordt afgedrukt:"
   ]
  },
  {
   "cell_type": "code",
   "execution_count": null,
   "metadata": {},
   "outputs": [],
   "source": [
    "def vermenigvuldig(x, y):\n",
    "    resultaat = x * y\n",
    "    print(resultaat)\n",
    "\n",
    "vermenigvuldig (2020, 5278238)\n",
    "vermenigvuldig (2, 3)"
   ]
  },
  {
   "cell_type": "markdown",
   "metadata": {},
   "source": [
    "### 5.3.3 return\n",
    "\n",
    "Parameters worden gebruikt om informatie van buiten de functie naar de functie toe te\n",
    "communiceren. Vaak wil je ook informatie vanuit de functie naar het programma buiten\n",
    "de functie toe communiceren. Daartoe dient het commando **return**.\n",
    "Als Python **return** tegenkomt in een functie, beëindigt dat de functie. Python gaat dan\n",
    "verder met de code vlak na de plaats waar de functie werd aangeroepen. Je mag achter\n",
    "het woord **return** nul of één waardes of variabelen opnemen. Deze waardes\n",
    "worden dan gecommuniceerd naar het programma buiten de functie. Als je de waardes\n",
    "wilt gebruiken, moet je zorgen dat ze in een variabele terecht komen. Dat krijg je voor\n",
    "elkaar door de functie-aanroep te doen als een assignment naar een variable.\n",
    "\n",
    "Bijvoorbeeld, stel dat een functie wordt aangeroepen als \n",
    "```\n",
    "<variabele> = <functie>()\n",
    "```\n",
    "De functie maakt een berekening, die wordt opgeslagen in een `<resultaat_variabele>`.\n",
    "Het commando `return <resultaat_variabele>` beëindigt de functie, waarna de waarde\n",
    "die in `<resultaat_variabele>` staat “uit de functie komt”. Omdat `<functie>()` was\n",
    "aangeroepen via een assignment, komt de waarde van `<resultaat_variabele>` uiteindelijk\n",
    "terecht in `<variabele>`.\n",
    "\n",
    "Het klinkt waarschijnlijk wat ingewikkeld, maar het wordt waarschijnlijk duidelijk als je het\n",
    "volgende voorbeeld bestudeert:"
   ]
  },
  {
   "cell_type": "code",
   "execution_count": null,
   "metadata": {},
   "outputs": [],
   "source": [
    "def kwadraat(a):\n",
    "    return a * a\n",
    "\n",
    "resultaat = kwadraat(3)\n",
    "print(resultaat)"
   ]
  },
  {
   "cell_type": "markdown",
   "metadata": {},
   "source": [
    "De functie `kwadraat()` berekent het kwadraat van de parameter.\n",
    "De uitkomst wordt via een **return** statement teruggegeven. Het hoofdprogramma\n",
    "“vangt” de waarde door het toekennen van de waarde aan de variabele `resultaat`. Daarna wordt\n",
    "de inhoud van `resultaat` geprint.\n",
    "\n",
    "Merk op dat het **return** statement in bovenstaand voorbeeld de complete berekening\n",
    "meekrijgt. Die berekening wordt binnen de functie uitgevoerd en slechts de waarde die\n",
    "de uitkomst is van die berekening wordt teruggegeven naar het hoofdprogramma."
   ]
  },
  {
   "cell_type": "markdown",
   "metadata": {},
   "source": [
    "### 5.3.4 Het verschil tussen return en print\n",
    "\n",
    "Het verschil tussen een functie die een waarde teruggeeft en een functie die een waarde\n",
    "print kan soms voor verwarring zorgen. Vergelijk de volgende twee stukken code:"
   ]
  },
  {
   "cell_type": "code",
   "execution_count": null,
   "metadata": {},
   "outputs": [],
   "source": [
    "def print3():\n",
    "    print(3)\n",
    "    \n",
    "print3()"
   ]
  },
  {
   "cell_type": "code",
   "execution_count": null,
   "metadata": {},
   "outputs": [],
   "source": [
    "def return3():\n",
    "    return 3\n",
    "\n",
    "print(return3())"
   ]
  },
  {
   "cell_type": "markdown",
   "metadata": {},
   "source": [
    "Zowel de functie `print3()` als de functie `return3()` worden aangeroepen in hun respectievelijke\n",
    "hoofdprogramma’s, en beide resulteren in het printen van de waarde 3. Het\n",
    "verschil is dat bij `print3()` dit printen gebeurt in de functie en de functie niks teruggeeft,\n",
    "terwijl bij de functie `return3()` de waarde 3 wordt teruggegeven en geprint in het hoofdprogramma.\n",
    "\n",
    "Voor de gebruiker lijkt er geen verschil te zijn: beide programma’s printen 3.\n",
    "\n",
    "Voor een programmeur zijn beide functies echter compleet verschillend.\n",
    "\n",
    "De functie `print3()` kan voor slechts één doel gebruikt worden, namelijk het tonen van\n",
    "het getal 3. De functie `return3()` kan echter gebruikt worden waar je ook maar het getal\n",
    "3 nodig hebt: om het te tonen, om het te gebruiken in een berekening, of om het aan een\n",
    "variabele toe te kennen. \n",
    "\n",
    "Bijvoorbeeld, de volgende code verheft 2 tot de macht 3 en print\n",
    "de uitkomst:"
   ]
  },
  {
   "cell_type": "code",
   "execution_count": null,
   "metadata": {},
   "outputs": [],
   "source": [
    "def return3():\n",
    "    return 3\n",
    "\n",
    "x = 2 ** return3()\n",
    "print( x )"
   ]
  },
  {
   "cell_type": "markdown",
   "metadata": {},
   "source": [
    "De code hieronder, echter, geeft een runtime error:"
   ]
  },
  {
   "cell_type": "code",
   "execution_count": null,
   "metadata": {},
   "outputs": [],
   "source": [
    "def print3():\n",
    "    print(3)\n",
    "    \n",
    "x = 2 ** print3() # Runtime error!\n",
    "print( x )"
   ]
  },
  {
   "cell_type": "markdown",
   "metadata": {},
   "source": [
    "De reden is dat hoewel `print3()` het getal 3 op het scherm toont (je ziet het boven de\n",
    "runtime error als je de code uitvoert), het niet de waarde 3 produceert op een manier dat\n",
    "een berekening er gebruik van kan maken. De functie `print3()` heeft geen returnwaarde en kan dus\n",
    "niet in een berekening gebruikt worden.\n",
    "\n",
    "Dus als je een functie wilt maken die een waarde oplevert die elders in je code gebruikt\n",
    "moet worden, dan moet die functie de waarde middels een **return** teruggeven. Als je\n",
    "een functie wilt maken die informatie toont, dan kun je dat gewoon doen middels print\n",
    "statements in de functie en hoeft de functie niets terug te geven."
   ]
  },
  {
   "cell_type": "markdown",
   "metadata": {},
   "source": [
    "### 5.3.5 Functies aanroepen vanuit functies\n",
    "\n",
    "Functies mogen andere functies aanroepen, zolang die andere functies maar bekend zijn\n",
    "bij de aanroepende functie. Bijvoorbeeld, hieronder zie je hoe de functie som_van_kwadraten() de\n",
    "functie kwadraat() gebruikt om de som te berekenen van de kwadraten van de 3 gegeven getallen."
   ]
  },
  {
   "cell_type": "code",
   "execution_count": null,
   "metadata": {},
   "outputs": [],
   "source": [
    "def kwadraat(a):\n",
    "    return a * a\n",
    "\n",
    "def som_van_kwadraten(x, y, z):\n",
    "    kwadraat_x = kwadraat(x)\n",
    "    kwadraat_y = kwadraat(y)\n",
    "    kwadraat_z = kwadraat(z)\n",
    "    return kwadraat_x + kwadraat_y + kwadraat_z\n",
    "    \n",
    "a = -5\n",
    "b = 2\n",
    "c = 10\n",
    "resultaat = som_van_kwadraten(a, b, c)\n",
    "print(resultaat)"
   ]
  },
  {
   "cell_type": "markdown",
   "metadata": {},
   "source": [
    "**Opgave 5.1** Schrijf een functie `printx()` die alleen de letter “x” print. Schrijf daarna een\n",
    "functie `meerderex()` die als argument een integer krijgt en die zo vaak de letter “x” print\n",
    "als de integer aangeeft. Daartoe roept de functie `meerderex()` zo vaak als nodig de functie\n",
    "`printx()` aan."
   ]
  },
  {
   "cell_type": "markdown",
   "metadata": {},
   "source": [
    "### 5.3.6 Functienamen\n",
    "\n",
    "Het is de gewoonte om namen van functies niet te laten beginnen met een underscore\n",
    "(zulke functienamen zijn voorbehouden aan de ontwikkelaars van Python zelf) en dat je\n",
    "probeert alleen kleine letters te gebruiken. Als een functienaam uit meerdere woorden\n",
    "bestaat, kun je ofwel underscores tussen die woorden zetten, ofwel ieder woord behalve\n",
    "het eerste laten starten met een hoofdletter. Verschillende programmeurs hebben hier verschillende\n",
    "meningen over, maar in de praktijk maakt het niet zoveel uit omdat je een functie\n",
    "altijd kunt herkennen aan het feit dat er haakjes achter de functienaam staan.\n",
    "\n",
    "Bepaalde benamingen van functies zijn typerend voor bepaalde functionaliteiten.\n",
    "\n",
    "Een functie die test of een bepaald item een bepaalde eigenschap heeft, en die dan **True** of\n",
    "**False** teruggeeft afhankelijk van het feit of de eigenschap wel of niet aanwezig is, krijgt\n",
    "meestal een naam die begint met het woord `is`, gevolgd door de naam van de eigenschap\n",
    "die start met een hoofdletter. Bijvoorbeeld, een functie die test of een getal even is, zou de\n",
    "naam `is_even()` krijgen.\n",
    "\n",
    "**Opgave 5.2** Schrijf de functie `is_even()`.\n",
    "\n",
    "**Opgave 5.3**  Schrijf de functie `is_oneven()`, die bepaalt of een getal oneven is, door de functie\n",
    "`is_even()` aan te roepen en het resultaat te inverteren.\n",
    "\n",
    "Merk op: Als je een functie als `is_even()` wilt gebruiken in een conditionele expressie, bijvoorbeeld,\n",
    "als je een actie alleen wilt uitvoeren als een getal even is, hoef je niet te schrijven\n",
    "```\n",
    "if is_even(num) == True:\n",
    "```\n",
    "\n",
    "Je hoeft alleen maar te schrijven \n",
    "```\n",
    "if is_even(num):\n",
    "``` \n",
    "want de functie geeft al **True** of **False** terug. Een is-functie op zo’n manier gebruiken verhoogt\n",
    "de leesbaarheid van een programma.\n",
    "\n",
    "\n",
    "**Opgave 5.4** Schrijf de functie `get_tienden()`, die de tienden van een float teruggeeft.\n",
    "Bijv. voor 45,235 krijg je het getal 2 als resultaat."
   ]
  },
  {
   "cell_type": "markdown",
   "metadata": {},
   "source": [
    "## 5.4 main()"
   ]
  },
  {
   "cell_type": "markdown",
   "metadata": {},
   "source": [
    "Nu we functies kunnen schrijven gaan we ook meer structuur aanbrengen in ons programma. Hiervoor gaan we ons hoofdprogramma ook in een functie zetten die we **main()** noemen. De functie **main()** bevat het hoofdprogramma, dat op zijn beurt andere functies kan aanroepen."
   ]
  },
  {
   "cell_type": "code",
   "execution_count": null,
   "metadata": {},
   "outputs": [],
   "source": [
    "def main():\n",
    "    print(\"Hello world!\")\n",
    "    \n",
    "if __name__ == '__main__':\n",
    "    main()"
   ]
  },
  {
   "cell_type": "markdown",
   "metadata": {},
   "source": [
    "Je hoeft dit niet precies te begrijpen, maar wat hier aan de hand is is het volgende: het Python bestand bevat code die als programma kan draaien, of de functies die het bevat kunnen geïmporteerd worden in andere programma's. De bovenstaande constructie zorgt ervoor dat de code in main() (dus het hoofdprogramma) alleen wordt uitgevoerd als het programma als een programma is gestart en niet als een module in een ander programma gebruikt wordt. Als in plaats daarvan het programma als module is geladen, kunnen alleen de functies in het programma worden geïmporteerd en wordt de code in de functie main() genegeerd.\n",
    "\n",
    "Vanaf nu ben je bij het maken van je oefeningen steeds verplicht om op deze manier te werken."
   ]
  },
  {
   "cell_type": "markdown",
   "metadata": {},
   "source": [
    "## 5.5 Scope van variabelen\n",
    "\n",
    "Scope (het bereik van de variabele) verwijst naar de zichtbaarheid van de variabele. \n",
    "Levensduur verwijst naar hoe lang een variabele in het geheugen\n",
    "van de computer blijft."
   ]
  },
  {
   "cell_type": "code",
   "execution_count": null,
   "metadata": {},
   "outputs": [],
   "source": [
    "def main():\n",
    "    hallo = \"Hallo!\"\n",
    "    totziens = \"Tot ziens!\"\n",
    "\n",
    "    for i in range(3):\n",
    "        for j in range(2):\n",
    "            middag = \"Goedemiddag\"\n",
    "            print(totziens)\n",
    "        print(j)\n",
    "        print(hallo)\n",
    "        print(middag)\n",
    "\n",
    "    print(i)\n",
    "    print(j)\n",
    "    print(middag)\n",
    "    \n",
    "if __name__ == '__main__':\n",
    "    main()"
   ]
  },
  {
   "cell_type": "markdown",
   "metadata": {},
   "source": [
    "De variabelen `hallo` en `totziens` zijn gedefinieerd op het hoogste niveau van inspringing\n",
    "van het hoofdprogramma, wat betekent dat hun scope het hele hoofdprogramma is. De variabelen `i`,\n",
    "`j` en `middag` zijn gedefinieerd in blokken code op een dieper niveau van inspringing. In\n",
    "de meeste programmeertalen zou dit betekenen dat hun scope beperkt is tot die diepere\n",
    "niveaus, maar Python is vriendelijk op dit gebied en laat hun scope verder reiken dan het\n",
    "blok code waarin de variabelen gecreëerd zijn. Daarom zijn in dit programma de variabelen\n",
    "zichtbaar in het hele hoofdprogramma, na hun creatie."
   ]
  },
  {
   "cell_type": "code",
   "execution_count": null,
   "metadata": {},
   "outputs": [],
   "source": [
    "def toon():\n",
    "    a = 8\n",
    "    b = 9\n",
    "    print(a, b)\n",
    "    \n",
    "def main():\n",
    "    a = 5\n",
    "    b = 6\n",
    "    toon()\n",
    "    print(a, b)\n",
    "\n",
    "if __name__ == '__main__':\n",
    "    main()"
   ]
  },
  {
   "cell_type": "markdown",
   "metadata": {},
   "source": [
    "Voer bovenstaand programma uit, bestudeer de code en output. De variabelen `a` en `b` lijken een nieuwe waarde te krijgen\n",
    "in de functie `toon()`. Maar als daarna in het hoofdprogramma de waarden van `a` en `b` worden\n",
    "afgedrukt, zie je dat deze variabelen nog steeds respectievelijk de waarden 5 en 6 bevatten.\n",
    "\n",
    "De reden voor het verschil is dat de variabelen `a` en `b` in de functie `toon()` andere zijn dan de\n",
    "variabelen `a` en `b` in het hoofdprogramma. Door in een functie een waarde toe te kennen\n",
    "aan een variabele, wordt een nieuwe, “lokale” variabele gecreëerd.\n",
    "\n",
    "De levensduur van de variabelen `a` en `b` in de functie is de periode waarvoor het blok\n",
    "code van de functie wordt uitgevoerd. Zodra de functie eindigt (bijvoorbeeld omdat er een\n",
    "**return** in de functie staat of omdat de laatste regel van de functie is uitgevoerd), worden\n",
    "de lokale variabelen van de functie vernietigd. Ze staan niet langer in het geheugen van de\n",
    "computer en kunnen niet meer benaderd worden."
   ]
  },
  {
   "cell_type": "markdown",
   "metadata": {},
   "source": [
    "Het is dus heel belangrijk om te onthouden dat wanneer je probeert in een functie een variabele\n",
    "die bestaat in het hoofdprogramma een andere waarde te geven middels een assignment,\n",
    "er een nieuwe, lokale variabele wordt gecreëerd. Een dergelijke lokale\n",
    "variabele is compleet onafhankelijk van het hoofdprogramma. De levensduur van zo’n\n",
    "lokale variabele is de periode dat de functie wordt uitgevoerd. Parameters kun je ook\n",
    "beschouwen als lokale variabelen.\n",
    "\n",
    "Dit is een enorm krachtige eigenschap van functies: ze hoeven geen rekening te houden\n",
    "met variabelen die bestaan buiten de functie, aangezien iedere variabele die ze creëren\n",
    "lokaal is voor de functie."
   ]
  },
  {
   "cell_type": "markdown",
   "metadata": {},
   "source": [
    "## 5.6 random\n",
    "\n",
    "Python biedt een aantal basisfuncties aan zoals **print()**, **int()**,... Naast die\n",
    "basisfuncties biedt Python ook een groot aantal zogeheten “modules” aan, waarin zich vele\n",
    "nuttige functies bevinden. Om de functies van een module te gebruiken in een programma,\n",
    "moet je de juiste module importeren door boven in je programma \n",
    "```\n",
    "import <modulenaam>\n",
    "```\n",
    "op te nemen. Je kunt dan alle functies die in de betreffende module staan in je programma\n",
    "gebruiken, maar je moet de functie-aanroepen vooraf laten gaan door de naam van de\n",
    "module en een punt.\n",
    "\n",
    "Als alternatief kun je ook specifieke functies vanuit een module importeren, via:\n",
    "```\n",
    "from <module> import <functie1>, <functie2>, <functie3>, ...\n",
    "```\n",
    "Het voordeel van een dergelijke manier van functies importeren is dat je in je code niet de\n",
    "naam van de module voor de functie-aanroep hoeft te zetten.\n",
    "\n",
    "De random module bevat functies die pseudo-toevalsgetallen genereren. We spreken over “pseudotoevalsgetallen”\n",
    "en niet “toevalsgetallen”, aangezien het onmogelijk is voor computers\n",
    "om echt toevalsgetallen te genereren. Maar voor alle toepassingen mag je ervan\n",
    "uitgaan dat deze module toevalsgetallen genereert.\n",
    "\n",
    "De module random bevat volgende functies die we zullen gebruiken:\n",
    "\n",
    "+ **random()** heeft geen argumenten en geeft een toevalsgetal als float binnen\n",
    "het bereik `[0, 1[`. Dit wil zeggen een bereik tussen nul en 1, waarbij 0.0 wel meedoet\n",
    "maar 1.0 niet.\n",
    "\n",
    "+ **randint()** verwacht twee argumenten, beide integers, waarbij de eerste kleiner dan of\n",
    "gelijk aan de tweede moet zijn. Het geeft een toevalsgetal dat een integer is dat\n",
    "ligt binnen het bereik dat begrensd wordt door deze twee parameters, inclusief beide\n",
    "parameters. Bijvoorbeeld, randint(2,5) retourneert 2, 3, 4, of 5, elk met een gelijke\n",
    "kans.\n",
    "\n",
    "+ seed() initialiseert de toevalsgetal generator van Python. Als je een lijst van toevalsgetallen\n",
    "wilt hebben die iedere keer hetzelfde is voor je programma, kun je dat voor\n",
    "elkaar krijgen door aan het begin van je programma seed() aan te roepen met een\n",
    "vast getal, bijvoorbeeld 0. Dit kan nuttig zijn bij het testen van je programma. Als je\n",
    "de generator weer echt toevallige getallen wilt laten genereren op een later punt in je\n",
    "programma, kun je seed() nogmaals aanroepen zonder parameter.\n",
    "\n",
    "Een voorbeeld:"
   ]
  },
  {
   "cell_type": "code",
   "execution_count": null,
   "metadata": {},
   "outputs": [],
   "source": [
    "from random import random, randint, seed\n",
    "\n",
    "def main():\n",
    "    seed()\n",
    "    print(\"Een toevalsgetal tussen 1 en 10 is\", randint(1, 10))\n",
    "    print(\"Een ander is\", randint(1, 10))\n",
    "\n",
    "    seed(0)\n",
    "    print(\"3 toevalsgetallen zijn:\", random(), random(), random())\n",
    "\n",
    "    seed(0)\n",
    "    print(\"Dezelfde 3 zijn:\", random(), random(), random())\n",
    "\n",
    "\n",
    "if __name__ == '__main__':\n",
    "    main()"
   ]
  },
  {
   "cell_type": "markdown",
   "metadata": {},
   "source": [
    "# Wat je geleerd hebt\n",
    "\n",
    "In dit hoofdstuk is het volgende besproken:\n",
    "+ Elementen van een functie\n",
    "+ Het nut van functies\n",
    "+ Functies creëren\n",
    "+ Parameters en argumenten\n",
    "+ Waardes uit functies teruggeven middels **return**\n",
    "+ Functie benamingen\n",
    "+ Variabele scope en levensduur\n",
    "+ Module random"
   ]
  }
 ],
 "metadata": {
  "kernelspec": {
   "display_name": "Python 3",
   "language": "python",
   "name": "python3"
  },
  "language_info": {
   "codemirror_mode": {
    "name": "ipython",
    "version": 3
   },
   "file_extension": ".py",
   "mimetype": "text/x-python",
   "name": "python",
   "nbconvert_exporter": "python",
   "pygments_lexer": "ipython3",
   "version": "3.8.8"
  }
 },
 "nbformat": 4,
 "nbformat_minor": 1
}
