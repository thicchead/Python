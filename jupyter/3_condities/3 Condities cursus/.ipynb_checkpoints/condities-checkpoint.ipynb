{
 "cells": [
  {
   "cell_type": "markdown",
   "metadata": {},
   "source": [
    "# Hoofdstuk 3: Condities\n",
    "\n",
    "In een programma zijn er vaak regels code die je alleen wilt uitvoeren onder bepaalde omstandigheden.\n",
    "Om dat te regelen, bieden alle programmeertalen zogeheten “conditionele\n",
    "statements” of “condities” aan. In dit hoofdstuk onderzoeken we hoe condities werken in Python."
   ]
  },
  {
   "cell_type": "markdown",
   "metadata": {},
   "source": [
    "## 3.1 Boolean expressies\n",
    "\n",
    "Een conditioneel statement, vaak een “if”-statement genoemd, bestaat uit een test en één of\n",
    "meerdere acties. De test is een zogeheten “boolean expressie”. De acties worden alleen uitgevoerd\n",
    "als de test evalueert als zijnde “waar.” Bijvoorbeeld, een app op een smartphone\n",
    "kan een waarschuwing geven als de batterij minder dan 5% vol is. Dat betekent dat de\n",
    "app test of een zekere variabele batterij_energie kleiner is dan 5, dus of de vergelijking\n",
    "batterij_energie < 5 als zijnde “waar” geëvalueerd wordt. Als de variabele momenteel\n",
    "de waarde 17 bevat, evalueert de test batterij_energie < 5 als zijnde “onwaar.”\n",
    "\n",
    "### 3.1.1 Booleans\n",
    "\n",
    "In Python wordt “waar” weergegeven door de waarde **True**, en “onwaar” door de waarde\n",
    "**False**.\n",
    "**True** en **False** zijn zogeheten “boolean waardes,” die door Python zijn gedefinieerd. \n",
    "\n",
    "Een expressie die evalueert als **True** of **False** heet een “boolean expressie”.\n",
    "\n",
    "### 3.1.2 Vergelijkingen\n",
    "De meestgebruikte boolean expressies zijn vergelijkingen. Een vergelijking bestaat uit twee\n",
    "waardes met een vergelijkingsoperator ertussen. Vergelijkingsoperatoren zijn:\n",
    "\n",
    "<table>\n",
    "<tr><td><</td><td>kleiner dan</td></tr>\n",
    "<tr><td><=</td><td>kleiner dan of gelijk aan</td></tr>\n",
    "<tr><td>==</td><td>gelijk aan</td></tr>\n",
    "<tr><td>>=</td><td>groter dan of gelijk aan</td></tr>\n",
    "<tr><td>></td><td>groter dan</td></tr>\n",
    "<tr><td>!=</td><td>niet gelijk aan</td></tr>\n",
    "</table>\n",
    "\n",
    "Een veelgemaakte fout is om twee waardes te vergelijken met een enkele =. De enkele\n",
    "= is de assignment operator. Meestal (maar niet altijd) produceert Python een syntax of\n",
    "runtime error als je de = probeert te gebruiken om twee waardes te vergelijken.\n",
    "Je kunt vergelijksoperatoren gebruiken zowel tussen getallen als tussen strings. Vergelijkingen\n",
    "tussen strings zijn alfabetische vergelijkingen, waarbij je wel moet bedenken dat\n",
    "hoofdletters altijd beschouwd worden als kleiner dan kleine letters (en cijfers kleiner dan\n",
    "alle letters).\n",
    "\n",
    "Hier volgen een paar voorbeelden van vergelijkingen:"
   ]
  },
  {
   "cell_type": "code",
   "execution_count": null,
   "metadata": {},
   "outputs": [],
   "source": [
    "print(\"1.\", 2 < 5)\n",
    "print(\"2.\", 2 <= 5)\n",
    "print(\"3.\", 3 > 3)\n",
    "print(\"4.\", 3 >= 3)\n",
    "print(\"5.\", 3 == 3.0)\n",
    "print(\"6.\", 3 == \"3\")\n",
    "print(\"7.\", \"syntax\" == \"syntax\")\n",
    "print(\"8.\", \"syntax\" == \"semantiek\")\n",
    "print(\"9.\", \"syntax\" == \" syntax\")\n",
    "print(\"10.\", \"Python\" != \"rotzooi\")\n",
    "print(\"11.\", \"Python\" > \"Perl\")\n",
    "print(\"12.\", \"banaan\" < \"mango\")\n",
    "print(\"13.\", \"banaan\" < \"Mango\")"
   ]
  },
  {
   "cell_type": "markdown",
   "metadata": {},
   "source": [
    "Zorg dat je deze vergelijkingen uitvoert, en dat je snapt waarom ze de uitkomst geven die\n",
    "ze geven"
   ]
  },
  {
   "cell_type": "markdown",
   "metadata": {},
   "source": [
    "**Opgave 3.1** Begrijp je waarom `3 < 13` **True** oplevert, maar `\"3\" < \"13\"` **False** oplevert?"
   ]
  },
  {
   "cell_type": "markdown",
   "metadata": {},
   "source": [
    "Je kunt de uitkomst van een boolean expressie aan een variabele toekennen als je wilt:"
   ]
  },
  {
   "cell_type": "code",
   "execution_count": null,
   "metadata": {},
   "outputs": [],
   "source": [
    "groter = 5 > 2\n",
    "print(groter)\n",
    "groter = 5 < 2\n",
    "print(groter)\n",
    "print(type(groter))"
   ]
  },
  {
   "cell_type": "markdown",
   "metadata": {},
   "source": [
    "**Opgave 3.2** Schrijf code die test of $1/2$ groter dan, gelijk aan, of kleiner is dan $0.5$. Doe dat\n",
    "ook voor $1/3$ en $0.33$. Doe het dan ook voor $(1/3) ∗ 3$ en $1$."
   ]
  },
  {
   "cell_type": "markdown",
   "metadata": {},
   "source": [
    "Vergelijkingen tussen data types die niet vergeleken kunnen worden, leiden meestal tot\n",
    "runtime errors."
   ]
  },
  {
   "cell_type": "code",
   "execution_count": null,
   "metadata": {},
   "outputs": [],
   "source": [
    "# Deze code geeft een runtime error.\n",
    "print(3 < \"3\")"
   ]
  },
  {
   "cell_type": "markdown",
   "metadata": {},
   "source": [
    "### 3.1.3 in operator\n",
    "Python heeft een speciale operator die de “lidmaatschap test operator” heet, en die vanwege\n",
    "die onverkwikkelijke mondvol meestal de “in operator” wordt genoemd aangezien\n",
    "hij gecodeerd wordt als **in**. De **in** operator test of een waarde voorkomt in een collectie,\n",
    "als de waarde links van de **in** staat, en de collectie rechts van de **in**.\n",
    "\n",
    "Er zijn verschillende soorten collecties in Python, maar de enige die we tot nu hebben gebruikt\n",
    "is de string. Een string is een collectie van tekens. Je kunt testen of een\n",
    "specifiek teken, of een groepje tekens, onderdeel is van een string middels de **in** operator.\n",
    "De tegenhanger van de **in** operator is de **not in** operator, die **True** oplevert als **in** **False**\n",
    "oplevert, en omgekeerd. Bijvoorbeeld:\n"
   ]
  },
  {
   "cell_type": "code",
   "execution_count": null,
   "metadata": {},
   "outputs": [],
   "source": [
    "print(\"y\" in \"Python\")\n",
    "print(\"x\" in \"Python\")\n",
    "print(\"p\" in \"Python\")\n",
    "print(\"th\" in \"Python\")\n",
    "print(\"to\" in \"Python\")\n",
    "print(\"y\" not in \"Python\")"
   ]
  },
  {
   "cell_type": "markdown",
   "metadata": {},
   "source": [
    "Zorg er weer voor dat je deze evaluaties begrijpt!\n",
    "\n",
    "**Opgave 3.3** Schrijf code die test voor iedere klinker (\"a\", \"e\", \"i\", \"o\", \"u\") of deze\n",
    "voorkomt in je naam. Je mag hoofdletters negeren.\n",
    "\n",
    "### 3.1.4 Logische operatoren\n",
    "\n",
    "Boolean expressies kunnen gecombineerd worden door logische operatoren te gebruiken. Er zijn\n",
    "drie logische operatoren: **and**, **or** en **not**.\n",
    "\n",
    "**and** en **or** plaats je tussen twee boolean expressies.\n",
    "\n",
    "Als **and** tussen twee boolean expressies staat, is het resultaat **True** als beide expressies **True**\n",
    "zijn; anders is het resultaat **False**.\n",
    "\n",
    "Als **or** tussen twee boolean expressies staat, is het resultaat **True** als één of beide expressies\n",
    "**True** zijn; het resultaat is alleen **False** als beide **False** zijn.\n",
    "\n",
    "**not** kun je voor een boolean expressie plaatsen om hem om te keren van **True** naar **False**\n",
    "en omgekeerd.\n",
    "\n",
    "Bijvoorbeeld:"
   ]
  },
  {
   "cell_type": "code",
   "execution_count": null,
   "metadata": {},
   "outputs": [],
   "source": [
    "t = True\n",
    "f = False\n",
    "print(t and t)\n",
    "print(t and f)\n",
    "print(f and t)\n",
    "print(f and f)\n",
    "print(t or t)\n",
    "print(t or f)\n",
    "print(f or t)\n",
    "print(f or f)\n",
    "print(not t)\n",
    "print(not f)"
   ]
  },
  {
   "cell_type": "markdown",
   "metadata": {},
   "source": [
    "Kijk uit met het gebruik van logische operatoren, want een combinatie van **and**s en **or**s kan\n",
    "leiden tot onverwachte resultaten. \n",
    "De **not** heeft voorang op de **and** en de **and** heeft voorrang op de **or**.\n",
    "Gebruik eventueel haakjes om te zorgen dat ze in de gewenste\n",
    "volgorde geëvalueerd worden. Bijvoorbeeld, in plaats van $a\\ and\\ b\\ or\\ c$ te schrijven, kan\n",
    "je $(a\\ and\\ b)\\ or\\ c$ of $a\\ and\\ (b\\ or\\ c)$ schrijven (afhankelijk van de gewenste volgorde),\n",
    "zodat het duidelijk is welke evaluatie je wilt uitvoeren. Zelfs als je weet in welke volgorde\n",
    "Python de evaluatie doet zonder haakjes, hoeft dat niet te gelden voor iemand anders die\n",
    "je code leest."
   ]
  },
  {
   "cell_type": "markdown",
   "metadata": {},
   "source": [
    "**Opgave 3.4** Geef voor de code hieronder waardes voor a, b en c, die ertoe leiden dat de\n",
    "twee expressies verschillende uitkomsten hebben."
   ]
  },
  {
   "cell_type": "code",
   "execution_count": null,
   "metadata": {},
   "outputs": [],
   "source": [
    "a = # True of False?\n",
    "b = # True of False?\n",
    "c = # True of False?\n",
    "print((a and b) or c)\n",
    "print(a and (b or c))"
   ]
  },
  {
   "cell_type": "markdown",
   "metadata": {},
   "source": [
    "Als je een logische expressie maakt met alleen **and**s of alleen **or**s, hoef je geen haakjes te gebruiken,\n",
    "want dan is er slechts één mogelijke evaluatie van de expressie.\n",
    "Boolean expressies worden dan van links naar rechts geëvalueerd en Python stopt de evaluatie\n",
    "op het moment dat de uitkomst van de evaluatie bekend is. Neem bijvoorbeeld de\n",
    "volgende code:"
   ]
  },
  {
   "cell_type": "code",
   "execution_count": null,
   "metadata": {},
   "outputs": [],
   "source": [
    "x = 1\n",
    "y = 0\n",
    "print((x == 0) or (y == 0) or (x / y == 1))"
   ]
  },
  {
   "cell_type": "markdown",
   "metadata": {},
   "source": [
    "Als je deelt door nul, geeft Python een runtime error, dus de evaluatie van x / y == 1\n",
    "geeft een error als y nul is. En als je de code bestudeert, zie je dat y inderdaad nul is. Maar\n",
    "de code geeft geen foutmelding. Python evalueert de boolean expressie van links naar\n",
    "rechts, en ziet op een gegeven moment $or\\ (y == 0)\\ or$. Omdat $(y == 0)$ evalueert als\n",
    "**True** en omdat een expressie die via **or**s gecombineerd is **True** is als één van de componenten\n",
    "**True** is, kan Python na evaluatie van $(y == 0)$ concluderen dat deze hele expressie **True**\n",
    "is. Het is dus niet nodig dat Python $x / y == 1$ evalueert, en Python doet dat dan ook\n",
    "niet. Het is wel van belang dat y == 0 links van x / y == 1 staat, zodat Python y == 0\n",
    "eerst test.\n",
    "\n",
    "Merk op dat hoewel je heel ingewikkelde boolean expressies kunt bouwen via logische\n",
    "operatoren, het toch nuttig is om de expressies zo eenvoudig mogelijk te houden. Eenvoudige\n",
    "expressies houden code leesbaar. Eventueel kan je extra variabelen gebruiken om een deel van je expressie te benoemen."
   ]
  },
  {
   "cell_type": "markdown",
   "metadata": {},
   "source": [
    "## 3.2 Conditionele statements\n",
    "\n",
    "Conditionele statements, die ook\n",
    "wel “condities” of “if statements” worden genoemd (omdat ze gedefinieerd worden met\n",
    "behulp van het gereserveerde woord if), bestaan uit een test en één of meer acties, waarbij de acties\n",
    "alleen worden uitgevoerd als de test **True** oplevert.\n",
    "\n",
    "Hier is een voorbeeld:"
   ]
  },
  {
   "cell_type": "code",
   "execution_count": null,
   "metadata": {},
   "outputs": [],
   "source": [
    "x = 5\n",
    "if x == 5:\n",
    "    print(\"x is 5\")"
   ]
  },
  {
   "cell_type": "markdown",
   "metadata": {},
   "source": [
    "De syntax van een if statement is als volgt:\n",
    "```\n",
    "if <boolean expressie>:\n",
    "   <acties>\n",
    "```\n",
    "Let op de dubbele punt (:) die achter de boolean expressie staat, en het feit dat `<acties>`\n",
    "inspringt."
   ]
  },
  {
   "cell_type": "markdown",
   "metadata": {},
   "source": [
    "### 3.2.1 Blokken code\n",
    "In de syntactische beschrijving van het **if** statement, zie je dat `<acties>` “inspringt”, dus\n",
    "één tabulatie naar rechts is geplaatst (in het Engels heet dit “indent”). Dit is opzettelijk\n",
    "zo gedaan en noodzakelijk. Python beschouwt statements die elkaar opvolgen en die hetzelfde\n",
    "niveau van inspringing hebben als één blok code. Het blok code dat onder het **if**\n",
    "statement staat is de lijst van acties die worden uitgevoerd als de boolean expressie **True**\n",
    "is. Bijvoorbeeld:"
   ]
  },
  {
   "cell_type": "code",
   "execution_count": null,
   "metadata": {},
   "outputs": [],
   "source": [
    "x = 7\n",
    "if x < 10:\n",
    "    print(\"Deze regel wordt alleen uitgevoerd als x < 10.\")\n",
    "    print(\"En dat geldt ook voor deze regel.\")\n",
    "print(\"Deze regel wordt echter altijd uitgevoerd.\")"
   ]
  },
  {
   "cell_type": "markdown",
   "metadata": {},
   "source": [
    "**Opgave 3.5** Wijzig de waarde van x en test hoe dat de resultaten beïnvloedt.\n",
    "\n",
    "Dus alle regels code die onder de **if** staan en inspringen, horen tot het blok code dat wordt\n",
    "uitgevoerd als de boolean expressie behorende bij de **if** evalueert als **True**. Het blok code\n",
    "wordt daarentegen overgeslagen als de boolean expressie evalueert als **False**. Statements\n",
    "die volgen na de **if** en die niet inspringen (althans, niet zo diep als het blok code onder de\n",
    "if) worden uitgevoerd ongeacht het resultaat van de evaluatie van de boolean expressie.\n",
    "Je hoeft je niet te beperken tot slechts één **if** statement. Je kunt er zoveel hebben als je wilt."
   ]
  },
  {
   "cell_type": "code",
   "execution_count": null,
   "metadata": {},
   "outputs": [],
   "source": [
    "x = 5\n",
    "if x == 5:\n",
    "    print(\"x is 5\")\n",
    "if x > 4:\n",
    "    print(\"x is groter dan 4\")\n",
    "if x >= 5:\n",
    "    print(\"x is groter dan of gelijk aan 5\")\n",
    "if x < 6:\n",
    "    print(\"x is kleiner dan 6\")\n",
    "if x <= 5:\n",
    "    print(\"x is kleiner dan of gelijk aan 5\")\n",
    "if x != 6:\n",
    "    print(\"x is niet 6\")"
   ]
  },
  {
   "cell_type": "markdown",
   "metadata": {},
   "source": [
    "**Opgave 3.6** Wijzig weer de waarde van x en test hoe dat de resultaten beïnvloedt.\n",
    "\n",
    "### 3.2.2 Inspringen\n",
    "\n",
    "In Python is correct inspringen van het grootste belang! Zonder correcte inspringing kan\n",
    "Python niet zien welke regels code een blok vormen en daarom je code niet uitvoeren\n",
    "zoals je bedoelt.\n",
    "\n",
    "Je kunt inspringen door middel van de Tab toets, of je kunt het doen middels spaties. De\n",
    "meeste editors doen aan “auto-indenting”, dat wil zeggen, ze springen automatisch in als\n",
    "de code daartoe aanleiding geeft. Bijvoorbeeld, als je een editor hebt die Python ondersteunt\n",
    "en je schrijft een **if** statement, dan zal de editor de daarop volgende regel meteen\n",
    "laten inspringen (als dat niet gebeurt, heb je waarschijnlijk een syntax fout gemaakt, bijvoorbeeld\n",
    "de dubbele punt vergeten). Ook wordt het niveau van inspringing aangehouden\n",
    "voor iedere volgende regel, tenzij je middels de Backspace toets de inspringing verwijdert.\n",
    "\n",
    "In Python programma’s is inspringing normaal vier spaties, dus een druk op de Tab toets\n",
    "moet vier posities inspringen. Zolang je in een specifieke editor werkt, kun je ofwel de Tab\n",
    "toets gebruiken, ofwel zelf de spatiebalk vier keer indrukken, om één niveau van inspringing\n",
    "op te schuiven. Je kunt echter in de problemen komen als je tussentijds wisselt van\n",
    "editor, die wellicht andere instellingen voor tabulaties gebruikt. Zelfs als je code in die andere\n",
    "editor er goed uitziet, kan Python toch tijdens uitvoering melden dat er “indentation\n",
    "conflicts” zijn (dat wil zeggen, dat tabulaties en spaties door elkaar gehutseld zijn). Dat kan\n",
    "gezien worden als een syntax fout. De meeste editors bieden de mogelijkheid via een optie\n",
    "om tabulaties automatisch te vervangen door spaties, wat vermijdt dat zulke problemen\n",
    "optreden. Dus als je een tekst editor gebruikt om Python code te schrijven, controleer dan\n",
    "of die optie bestaat, en laat hem dan automatisch tabulaties vervangen door vier spaties.\n",
    "\n",
    "**Opgave 3.7** De volgende code bevat inspring-fouten. Verbeter de code."
   ]
  },
  {
   "cell_type": "code",
   "execution_count": null,
   "metadata": {},
   "outputs": [],
   "source": [
    "# Deze code bevat tabulatie-fouten!\n",
    "x = 3\n",
    "y = 4\n",
    "if x == 3 and y == 4:\n",
    "    print(\"x is 3\")\n",
    "   print(\"y is 4\")\n",
    "if x > 2 and y < 5:\n",
    "print(\"x > 2\")\n",
    "print(\"y < 5\")\n",
    "if x < 4 and y > 3:\n",
    "    print(\"x < 4\")\n",
    "        print(\"y > 3\")\n"
   ]
  },
  {
   "cell_type": "markdown",
   "metadata": {},
   "source": [
    "### 3.2.3 Twee-weg beslissingen\n",
    "\n",
    "Het komt regelmatig voor dat een beslissing twee kanten uit kan gaan, dat wil zeggen,\n",
    "onder bepaalde omstandigheden wil je een bepaald iets doen, en als die omstandigheden\n",
    "niet optreden wil je iets anders doen. Python staat dit toe door aan een **if** statement een\n",
    "**else** tak toe te voegen."
   ]
  },
  {
   "cell_type": "code",
   "execution_count": null,
   "metadata": {},
   "outputs": [],
   "source": [
    "x = 4\n",
    "if x > 2:\n",
    "    print(\"x is groter dan 2\")\n",
    "else:\n",
    "    print(\"x is kleiner dan of gelijk aan 2\")"
   ]
  },
  {
   "cell_type": "markdown",
   "metadata": {},
   "source": [
    "De syntax is:\n",
    "```\n",
    "if <boolean expressie>:\n",
    "    <acties>\n",
    "else:\n",
    "    <acties>\n",
    "```\n",
    "Merk op dat er een dubbele punt achter de **else** staat, net zoals achter de\n",
    "`<boolean expressie>` bij de **if**.\n",
    "\n",
    "Het is van belang dat het woord **else** uitgelijnd is met het woord **if** waar het bij hoort. Als\n",
    "je ze niet correct uitlijnt, krijg je ofwel een tabulatie fout, ofwel doet je code niet wat je zou\n",
    "willen dat hij doet.\n",
    "\n",
    "Een consequentie van het toevoegen van een **else** tak aan een **if** statement is dat altijd\n",
    "precies één van de twee blokken `<acties>` wordt uitgevoerd. Als de boolean expressie\n",
    "**True** is, wordt het blok code onder de **if** uitgevoerd, en wordt het blok code onder de\n",
    "**else** overgeslagen. Als de boolean expressie **False** is, wordt het blok code onder de **if**\n",
    "overgeslagen, maar wordt het blok code onder de **else** uitgevoerd.\n",
    "\n",
    "**Opgave 3.8** Schrijf code die vraagt om\n",
    "een integer en dan rapporteert of de integer even of oneven is."
   ]
  },
  {
   "cell_type": "markdown",
   "metadata": {},
   "source": [
    "### 3.2.4 Stroomdiagrammen\n",
    "\n",
    "In de tijd dat het beroep “programmeur” nog vrij nieuw was, gebruikten programmeurs\n",
    "vaak een techniek die “stroomdiagram” genoemd wordt om algoritmes te beschrijven.\n",
    "Vandaag de dag worden stroomdiagrammen nog slechts zelden gebruikt, maar het helpt soms\n",
    "om de werking van conditionele expressies (en van iteraties, die in het volgende hoofdstuk\n",
    "besproken worden) beter te begrijpen.\n",
    "\n",
    "Een stroomdiagram is een schematische weergave van een algoritme middels blokken met\n",
    "pijlen ertussen. Er zijn drie soorten blokken (althans voor deze cursus). \n",
    "\n",
    "Rechthoekige blokken bevatten statements of instructies die uitgevoerd worden.\n",
    "Ruitvormige blokken bevatten een conditie die geëvalueerd wordt als **True** of **False**.\n",
    "\n",
    "Rechthoekige blokken met ronde hoeken geven ofwel de start (met de tekst “Start”) ofwel\n",
    "het einde (met de tekst “Stop”) van het algoritme aan.\n",
    "\n",
    "Om een stroomdiagram te interpreteren, begin je bij het “Start” blok, en volgt de pijlen,\n",
    "waarbij je ieder statement dat je tegenkomt uitvoert. \n",
    "Als je een ruitvormig blok tegenkomt,\n",
    "evalueer je de conditie die erin staat, en dan volg je ofwel de pijl die met **True** gemarkeerd\n",
    "is als de conditie **True** is, ofwel de pijl die met **False** gemarkeerd is als de conditie **False**\n",
    "is. Wanneer je het “Stop” blok tegenkomt, ben je klaar."
   ]
  },
  {
   "cell_type": "markdown",
   "metadata": {},
   "source": [
    "![alt text](./images/stroomdiagram1.jpg \"Stroomdiagram met twee-weg beslissing\")"
   ]
  },
  {
   "cell_type": "markdown",
   "metadata": {},
   "source": [
    "### 3.2.5 Meer-weg beslissingen\n",
    "\n",
    "Het komt voor dat je een situatie hebt waarbij je één van meerdere blokken code wilt uitvoeren,\n",
    "maar niet meer dan één. Dit soort meer-weg beslissingen kun je implementeren\n",
    "met een extra toevoeging aan een **if** statement, namelijk in de vorm van één of meer **elif**\n",
    "takken (**elif** staat voor “else if”).\n"
   ]
  },
  {
   "cell_type": "code",
   "execution_count": null,
   "metadata": {},
   "outputs": [],
   "source": [
    "leeftijd = 21\n",
    "if leeftijd < 12:\n",
    "    print(\"kind\" )\n",
    "elif leeftijd < 18:\n",
    "    print(\"tiener\")\n",
    "elif leeftijd < 30:\n",
    "    print(\"jong\")\n",
    "elif leeftijd < 50:\n",
    "    print(\"ouder\")\n",
    "else:\n",
    "    print(\"oud\")"
   ]
  },
  {
   "cell_type": "markdown",
   "metadata": {},
   "source": [
    "![alt text](./images/stroomdiagram2.jpg \"Stroomdiagram met meer-weg beslissingen\")"
   ]
  },
  {
   "cell_type": "markdown",
   "metadata": {},
   "source": [
    "**Opgave 3.9** Verander in de code hierboven de waarde van de variabele leeftijd en\n",
    "bestudeer de resultaten."
   ]
  },
  {
   "cell_type": "markdown",
   "metadata": {},
   "source": [
    "De syntax is:\n",
    "```\n",
    "if <boolean expressie>:\n",
    "    <acties>\n",
    "elif <boolean expressie>:\n",
    "    <acties>\n",
    "else:\n",
    "    <acties>\n",
    "```\n",
    "De syntax hierboven toont slechts één **elif**, maar je mag er meerdere hebben. De verschillende\n",
    "tests in een **if-elif-else** constructie worden in volgorde uitgevoerd. De eerste\n",
    "boolean expressie die geëvalueerd wordt als **True** laat het bijbehorende blok code uitvoeren.\n",
    "Geen andere blokken code in de hele constructie worden daarna nog uitgevoerd, en\n",
    "er worden daarna ook geen boolean expressies in de constructie meer getest.\n",
    "\n",
    "Kortom, eerst wordt de boolean expressie bij de **if** geëvalueerd. Als die **True** is, wordt het\n",
    "blok code onder de **if** uitgevoerd. Anders wordt de boolean expressie bij de eerste **elif**\n",
    "geëvalueerd. Als die **True** blijkt te zijn, wordt de code behorende bij deze **elif** uitgevoerd.\n",
    "Zo niet, dan wordt de boolean expressie bij de tweede **elif** geëvalueerd. Etcetera. Slechts\n",
    "als alle boolean expressies in de constructie **False** blijken te zijn, wordt het blok code bij de\n",
    "**else** uitgevoerd.\n",
    "\n",
    "Voor het voorbeeld hierboven betekent dit dat bij de eerste **elif** de test `leeftijd < 18`\n",
    "volstaat en niet hoeft te worden aangevuld met een test `and leeftijd >= 12`, want als\n",
    "leeftijd kleiner geweest zou zijn dan 12, dan zou de boolean expressie voor de **if** al **True**\n",
    "zijn geweest, en zou de boolean expressie bij de eerste **elif** niet eens door Python zijn\n",
    "gezien.\n",
    "\n",
    "**Opgave 3.10** Schrijf een programma dat een variabele gewicht heeft. Als gewicht groter is\n",
    "dan 20 (kilo), print je: “Er moet een toeslag van €25 betaald worden voor bagage die te\n",
    "zwaar is.” Als gewicht kleiner is dan 20, print je: “Goede reis!”. Als gewicht precies 20 is,\n",
    "print je: “Poeh! Dat gewicht is precies goed!”. Wijzig de waarde van gewicht een paar keer\n",
    "om de code te testen."
   ]
  },
  {
   "cell_type": "markdown",
   "metadata": {},
   "source": [
    "### 3.2.6 Geneste condities\n",
    "\n",
    "Gegeven de syntactische regels voor **if-elif-else** constructies en inspringing, is het mogelijk\n",
    "om **if** statements op te nemen in de codeblokken behorende bij andere if statements.\n",
    "Zo’n geneste **if** wordt alleen uitgevoerd als de boolean expressie behorende bij het\n",
    "codeblok waarin de geneste **if** staat **True** is."
   ]
  },
  {
   "cell_type": "code",
   "execution_count": null,
   "metadata": {},
   "outputs": [],
   "source": [
    "x = 41\n",
    "if x % 7 == 0:\n",
    "    # Hier begint een genest codeblok\n",
    "    if x % 11 == 0:\n",
    "        print(x, \"is deelbaar door 7 en 11.\")\n",
    "    else:\n",
    "        print(x, \"is deelbaar door 7, maar niet door 11.\")\n",
    "    # Hier eindigt een genest codeblok\n",
    "elif x % 11 == 0:\n",
    "    print(x, \"is deelbaar door 11, maar niet door 7.\")\n",
    "else:\n",
    "    print(x, \"is niet deelbaar door 7 of 11.\")"
   ]
  },
  {
   "cell_type": "markdown",
   "metadata": {},
   "source": [
    "![alt text](./images/stroomdiagram3.jpg \"Stroomdiagram met geneste if\")"
   ]
  },
  {
   "cell_type": "markdown",
   "metadata": {},
   "source": [
    "**Opgave 3.11** Wijzig de waarde van x en controleer de resultaten.\n",
    "\n",
    "Het voorbeeld hierboven illustreert het nesten van **if** statements.\n",
    "Er zijn leesbaardere manieren om te doen wat deze code doet. Het nesten van **if** statements\n",
    "kan vaak vermeden worden door **elif**s te gebruiken. Bijvoorbeeld, de code hieronder doet\n",
    "hetzelfde als de “leeftijd” code hierboven, maar nu met geneste **if**s in plaats van **elif**s."
   ]
  },
  {
   "cell_type": "code",
   "execution_count": null,
   "metadata": {},
   "outputs": [],
   "source": [
    "leeftijd = 21\n",
    "if leeftijd < 12:\n",
    "    print(\"kind\")\n",
    "else:\n",
    "    if leeftijd < 18:\n",
    "        print(\"tiener\")\n",
    "    else:\n",
    "        if leeftijd < 30:\n",
    "            print(\"jong\")\n",
    "        else:\n",
    "            if leeftijd < 50:\n",
    "                print(\"ouder\")\n",
    "            else:\n",
    "                print(\"oud\")"
   ]
  },
  {
   "cell_type": "markdown",
   "metadata": {},
   "source": [
    "De versie met de **elif**s is beter leesbaar en onderhoudbaar."
   ]
  },
  {
   "cell_type": "markdown",
   "metadata": {},
   "source": [
    "**Opmerking:**\n",
    "In Python kan echter elke waarde worden geïnterpreteerd als boolean, ongeacht het data type.\n",
    "Dus als je een test doet of iets **True** of **False** is, en je test dat van een waarde die niet van het\n",
    "data type bool is, dan wordt hetgeen je test toch als ofwel **True** ofwel **False** beschouwd.\n",
    "De volgende waardes worden beschouwd als zijnde False:\n",
    "+ De speciale waarde **False**\n",
    "+ De speciale waarde **None**\n",
    "+ Iedere numerieke waarde die nul is, bijvoorbeeld 0 en 0.0\n",
    "+ Iedere lege serie, bijvoorbeeld een lege string (\"\")\n",
    "+ Iedere lege “afbeelding\n",
    "+ Iedere functie of methode die één van de bovenstaande waardes retourneert (inclusief functies die niks retourneren)\n",
    "\n",
    "Iedere andere waarde wordt beschouwd als zijnde **True**.\n",
    "\n",
    "\n",
    "## Wat je geleerd hebt\n",
    "\n",
    "In dit hoofdstuk is het volgende besproken:\n",
    "+ Wat boolean expressies zijn\n",
    "+ Boolean waardes **True** en **False**\n",
    "+ Vergelijkingen met <, <=, ==, >, >=, en !=\n",
    "+ De **in** operator\n",
    "+ Logische operatoren **and**, **or** en **not**\n",
    "+ Conditionele statements met **if**, **elif** en **else**\n",
    "+ Blokken code\n",
    "+ Inspringing\n",
    "+ Geneste condities"
   ]
  }
 ],
 "metadata": {
  "kernelspec": {
   "display_name": "Python 3",
   "language": "python",
   "name": "python3"
  },
  "language_info": {
   "codemirror_mode": {
    "name": "ipython",
    "version": 3
   },
   "file_extension": ".py",
   "mimetype": "text/x-python",
   "name": "python",
   "nbconvert_exporter": "python",
   "pygments_lexer": "ipython3",
   "version": "3.7.3"
  }
 },
 "nbformat": 4,
 "nbformat_minor": 1
}
